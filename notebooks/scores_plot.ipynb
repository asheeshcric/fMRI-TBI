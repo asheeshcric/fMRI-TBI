{
 "cells": [
  {
   "cell_type": "code",
   "execution_count": 2,
   "metadata": {},
   "outputs": [],
   "source": [
    "import matplotlib.pyplot as plt\n",
    "import numpy as np"
   ]
  },
  {
   "cell_type": "code",
   "execution_count": 3,
   "metadata": {},
   "outputs": [],
   "source": [
    "import os\n",
    "import json"
   ]
  },
  {
   "cell_type": "code",
   "execution_count": 4,
   "metadata": {},
   "outputs": [],
   "source": [
    "import collections"
   ]
  },
  {
   "cell_type": "code",
   "execution_count": 5,
   "metadata": {},
   "outputs": [],
   "source": [
    "tbi_score_path = \"/tankpool/home/ashish/Documents/github/fmri-TBI/scripts/tbi_scores.json\"\n",
    "hc_score_path = \"/tankpool/home/ashish/Documents/github/fmri-TBI/scripts/hc_scores.json\""
   ]
  },
  {
   "cell_type": "code",
   "execution_count": 6,
   "metadata": {},
   "outputs": [],
   "source": [
    "tbi_score_path = \"/home/asheesh/Documents/Github/fmri-TBI/scripts/tbi_scores.json\"\n",
    "hc_score_path = \"/home/asheesh/Documents/Github/fmri-TBI/scripts/hc_scores.json\""
   ]
  },
  {
   "cell_type": "code",
   "execution_count": 23,
   "metadata": {},
   "outputs": [],
   "source": [
    "with open(tbi_score_path, 'r') as tbi_file:\n",
    "    tbi_scores = json.load(tbi_file)\n",
    "\n",
    "with open(tbi_score_path, 'r') as hc_file:\n",
    "    hc_scores = json.load(hc_file)"
   ]
  },
  {
   "cell_type": "code",
   "execution_count": 24,
   "metadata": {},
   "outputs": [
    {
     "data": {
      "text/plain": [
       "Counter({70: 7,\n",
       "         50: 17,\n",
       "         0: 51,\n",
       "         100: 14,\n",
       "         60: 9,\n",
       "         10: 10,\n",
       "         5: 6,\n",
       "         95: 1,\n",
       "         99: 3,\n",
       "         80: 4,\n",
       "         20: 7,\n",
       "         90: 3,\n",
       "         40: 5,\n",
       "         30: 7,\n",
       "         15: 1,\n",
       "         75: 4,\n",
       "         65: 1})"
      ]
     },
     "execution_count": 24,
     "metadata": {},
     "output_type": "execute_result"
    }
   ],
   "source": [
    "tbi_0_back_counts = collections.Counter(tbi_scores[\"0_back\"])\n",
    "tbi_0_back_counts"
   ]
  },
  {
   "cell_type": "code",
   "execution_count": 28,
   "metadata": {},
   "outputs": [
    {
     "data": {
      "image/png": "[encoded data removed]",
      "text/plain": [
       "<Figure size 576x288 with 1 Axes>"
      ]
     },
     "metadata": {
      "needs_background": "light"
     },
     "output_type": "display_data"
    }
   ],
   "source": [
    "plt.figure(figsize=(8, 4))\n",
    "result = dict(tbi_0_back_counts)\n",
    "result.pop(0)\n",
    "plt.bar(result.keys(), result.values(), width=5.0)\n",
    "plt.xlabel(\"Self-reported Cognitive Fatigue Scores after 0-back tasks\")\n",
    "plt.ylabel(\"Number of sessions\")\n",
    "plt.savefig(\"0_back.png\")"
   ]
  },
  {
   "cell_type": "code",
   "execution_count": 10,
   "metadata": {},
   "outputs": [
    {
     "data": {
      "text/plain": [
       "Counter({0: 44,\n",
       "         70: 10,\n",
       "         60: 11,\n",
       "         10: 12,\n",
       "         25: 1,\n",
       "         20: 10,\n",
       "         30: 5,\n",
       "         50: 13,\n",
       "         85: 4,\n",
       "         95: 5,\n",
       "         98: 2,\n",
       "         99: 1,\n",
       "         80: 10,\n",
       "         90: 6,\n",
       "         40: 3,\n",
       "         1: 8,\n",
       "         5: 4,\n",
       "         100: 1})"
      ]
     },
     "execution_count": 10,
     "metadata": {},
     "output_type": "execute_result"
    }
   ],
   "source": [
    "tbi_2_back_counts = collections.Counter(tbi_scores[\"2_back\"])\n",
    "tbi_2_back_counts"
   ]
  },
  {
   "cell_type": "code",
   "execution_count": 29,
   "metadata": {},
   "outputs": [
    {
     "data": {
      "image/png": "[encoded data removed]",
      "text/plain": [
       "<Figure size 576x288 with 1 Axes>"
      ]
     },
     "metadata": {
      "needs_background": "light"
     },
     "output_type": "display_data"
    }
   ],
   "source": [
    "plt.figure(figsize=(8, 4))\n",
    "result = dict(tbi_2_back_counts)\n",
    "result.pop(0)\n",
    "plt.bar(result.keys(), result.values(), width=5.0)\n",
    "plt.xlabel(\"Self-reported Cognitive Fatigue Scores after 2-back tasks\")\n",
    "plt.ylabel(\"Number of sessions\")\n",
    "plt.savefig(\"2_back.png\")"
   ]
  },
  {
   "cell_type": "code",
   "execution_count": 14,
   "metadata": {},
   "outputs": [
    {
     "data": {
      "text/plain": [
       "<matplotlib.collections.PathCollection at 0x7f8484683cd0>"
      ]
     },
     "execution_count": 14,
     "metadata": {},
     "output_type": "execute_result"
    },
    {
     "data": {
      "image/png": "[encoded data removed]",
      "text/plain": [
       "<Figure size 432x288 with 1 Axes>"
      ]
     },
     "metadata": {
      "needs_background": "light"
     },
     "output_type": "display_data"
    }
   ],
   "source": [
    "plt.scatter(tbi_2_back_counts.keys(), tbi_2_back_counts.values())"
   ]
  },
  {
   "cell_type": "code",
   "execution_count": null,
   "metadata": {},
   "outputs": [],
   "source": []
  }
 ],
 "metadata": {
  "kernelspec": {
   "display_name": "fmri",
   "language": "python",
   "name": "fmri"
  },
  "language_info": {
   "codemirror_mode": {
    "name": "ipython",
    "version": 3
   },
   "file_extension": ".py",
   "mimetype": "text/x-python",
   "name": "python",
   "nbconvert_exporter": "python",
   "pygments_lexer": "ipython3",
   "version": "3.8.10"
  }
 },
 "nbformat": 4,
 "nbformat_minor": 4
}
