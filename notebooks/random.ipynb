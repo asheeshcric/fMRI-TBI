{
 "cells": [
  {
   "cell_type": "code",
   "execution_count": 1,
   "metadata": {},
   "outputs": [],
   "source": [
    "import requests\n",
    "from bs4 import BeautifulSoup"
   ]
  },
  {
   "cell_type": "code",
   "execution_count": 2,
   "metadata": {},
   "outputs": [],
   "source": [
    "url = 'https://catalog.uta.edu/business/infosystems/#courseinventory'"
   ]
  },
  {
   "cell_type": "markdown",
   "metadata": {},
   "source": [
    "### Download all HTML content from the webpage using requests"
   ]
  },
  {
   "cell_type": "code",
   "execution_count": 3,
   "metadata": {},
   "outputs": [
    {
     "name": "stdout",
     "output_type": "stream",
     "text": [
      "Sample of the scraped content from the webpage:\n"
     ]
    },
    {
     "data": {
      "text/plain": [
       "b'<!doctype html>\\n<html class=\"no-js\" xml:lang=\"en\" lang=\"en\" dir=\"ltr\">\\n\\n<head>\\n<meta http-equiv=\"X-UA-Compatible\" content=\"IE=Edge\" />\\n<title>Information Systems and Operations Management &lt; University of Texas Arlington</title>\\n<meta http-equiv=\"Content-Type\" content=\"text/html; charset=utf-8\" />\\n<link rel=\"search\" type=\"application/opensearchdescription+xml\"\\n\\t\\t\\thref=\"/search/opensearch.xml\" title=\"Catalog\" />\\n<meta name=\"viewport\" content=\"width=device-width, initial-scale=1.0, minimum-scale=1.0\" />\\n<link href=\"/favicon.ico\" rel=\"shortcut icon\" />\\n<link rel=\"stylesheet\" type=\"text/css\" href=\"/css/reset.css\" />\\n<link rel=\"stylesheet\" type=\"text/css\" href=\"/fonts/font-awesome/font-awesome.min.css\" />\\n<link rel=\"stylesheet\" type=\"text/css\" href=\"/css/courseleaf.css\" />\\n<link rel=\"stylesheet\" type=\"text/css\" href=\"/css/screen.css\" media=\"screen\" />\\n<link rel=\"stylesheet\" type=\"text/css\" href=\"/css/print.css\" media=\"print\" />\\n<script type=\"text/javascript\" src=\"/js/jquery.js\"></script>\\n'"
      ]
     },
     "execution_count": 3,
     "metadata": {},
     "output_type": "execute_result"
    }
   ],
   "source": [
    "webpage = requests.get(url)\n",
    "page_content = webpage.content\n",
    "print('Sample of the scraped content from the webpage:')\n",
    "page_content[:1000]"
   ]
  },
  {
   "cell_type": "markdown",
   "metadata": {},
   "source": [
    "### Parse the HTML content and extract relevant text using BeautifulSoup"
   ]
  },
  {
   "cell_type": "code",
   "execution_count": 4,
   "metadata": {},
   "outputs": [],
   "source": [
    "# Parse the above scraped HTML using BeautifulSoup\n",
    "soup = BeautifulSoup(page_content, 'html.parser')"
   ]
  },
  {
   "cell_type": "code",
   "execution_count": 5,
   "metadata": {},
   "outputs": [
    {
     "name": "stdout",
     "output_type": "stream",
     "text": [
      "Total number of courses: 119\n",
      "\n",
      "\n",
      "Sample Course Block:\n"
     ]
    },
    {
     "data": {
      "text/plain": [
       "'\\nBSTAT\\xa02305.  INTRODUCTORY STATISTICS FOR BUSINESS ANALYTICS.  3 Hours.\\n\\nGuiding business and economic decision-making with the use of descriptive and inferential statistical techniques. Topics include the collection, description and summarization of business and economic data; probability as a foundation of business intelligence; discrete and continuous random variables, their probability and sampling distributions, and their application in business analytics; estimation and confidence intervals for (and tests of hypotheses regarding) the population mean in business settings; and correlation and linear regression analysis as business decision-making tools. Software is used to conduct analyses throughout the course.\\n\\n'"
      ]
     },
     "execution_count": 5,
     "metadata": {},
     "output_type": "execute_result"
    }
   ],
   "source": [
    "# Since the course title and description are inside a 'div' with class as 'courseblock', we can extract all text from these divs\n",
    "div_courses = soup.find_all('div', attrs={'class': 'courseblock'})\n",
    "courses_text = [row.text for row in div_courses]\n",
    "print(f'Total number of courses: {len(courses_text)}')\n",
    "print('\\n\\nSample Course Block:')\n",
    "courses_text[5]"
   ]
  },
  {
   "cell_type": "code",
   "execution_count": 6,
   "metadata": {},
   "outputs": [],
   "source": [
    "# Since each course block follows the same format, we can extract the course name and its description using the pattern used and add it to a dictionary defined below\n",
    "courses_dict = dict()"
   ]
  },
  {
   "cell_type": "code",
   "execution_count": 7,
   "metadata": {},
   "outputs": [],
   "source": [
    "# From the extracted text, find the title and the description of each course to add them to the above dictionary\n",
    "for course_block in courses_text:\n",
    "    # First, remove all escape (\\n) and other line feed characters (\\xa) from the text\n",
    "    course_block = course_block.replace('\\n', '').replace('\\xa0', ' ')\n",
    "    splitted_text = course_block.split('.')\n",
    "#     print(splitted_text)\n",
    "    title = splitted_text[0] + '.' + splitted_text[1] + '.' + splitted_text[2]\n",
    "    description = '.'.join(splitted_text[3:])\n",
    "#     print(title)\n",
    "#     print(description)\n",
    "    courses_dict[title] = description"
   ]
  },
  {
   "cell_type": "code",
   "execution_count": 8,
   "metadata": {},
   "outputs": [
    {
     "name": "stdout",
     "output_type": "stream",
     "text": [
      "Number of courses found:\n",
      "119\n"
     ]
    }
   ],
   "source": [
    "print('Number of courses found:')\n",
    "print(len(courses_dict))"
   ]
  },
  {
   "cell_type": "code",
   "execution_count": 9,
   "metadata": {},
   "outputs": [
    {
     "data": {
      "text/plain": [
       "{'BANA 3308.  INTRODUCTION TO BUSINESS ANALYTICS.  3 Hours': 'This course introduces students to data mining and business analytics techniques that will enable them to draw actionable insights from data. In addition to tracing the evolution of ideas in Artificial Intelligence (AI), Machine Learning (ML), and Deep Learning (DL), the course provides hands-on exposure to state-of-the-art machine learning algorithms-such as linear, ensemble, and neural network models-that organizations rely on to derive business value. Prerequisite: BSTAT 3321 and INSY 3300.',\n",
       " 'BANA 3309.  DATA VISUALIZATION AND BUSINESS INTELLIGENCE.  3 Hours': 'This course introduces students to cutting-edge techniques for visualizing data and creating dashboards to facilitate data-driven decision making.  Topics include fundamentals of SQL, preprocessing of data, examining principles and concepts underlying visual characteristics of data, exploring graphs and charts to draw insight from data, assessing the quality of datasets, and performing exploratory analysis.  Creating dashboards and storytelling to communicate business insight will also be emphasized. Prerequisite: BSTAT 3321 and INSY 3300.',\n",
       " 'BANA 4308.  ADVANCED DATA SCIENCE.  3 Hours': 'This course provides an in-depth understanding of machine learning concepts and algorithms using Python. Students will receive hands-on training on supervised learning algorithms such as KNN, Naïve Bayes, Linear and Logistic Regression, Support Vector Machines, Decision Trees and Ensembles, and Artificial Neural Networks (ANNs). The course will also cover foundations of Natural Language Processing (NLP) and unsupervised learning algorithms such as K-Means, Hierarchical Clustering, and DBSCAN. Prerequisite: BANA 3308 and BANA 3309.',\n",
       " 'BANA 4311.  ETHICAL AND SOCIAL ISSUES IN DATA SCIENCE.  3 Hours': 'This course discusses ethical concerns and social issues related to the creation, storage, analysis, use, and dissemination of data arising from business applications of machine learning, artificial intelligence, predictive analytics and data science. Topics include fairness, validity, anonymity, privacy, ownership, human subject research and societal consequences of data analysis and use by business organizations. Prerequisite: BANA 3308.',\n",
       " 'BANA 4326.  CAPSTONE IN BUSINESS ANALYTICS.  3 Hours': 'This course covers advanced analytics techniques, such as Natural Language Processing, Deep Learning, and Reinforcement Learning.  It also provides students an opportunity to apply their analytics skills to solve a real-world problem and present the efficacy of their solution from a business perspective. Communication and presentation skills will be emphasized. Prerequisite: BANA 4308.',\n",
       " 'BSTAT 2305.  INTRODUCTORY STATISTICS FOR BUSINESS ANALYTICS.  3 Hours': 'Guiding business and economic decision-making with the use of descriptive and inferential statistical techniques. Topics include the collection, description and summarization of business and economic data; probability as a foundation of business intelligence; discrete and continuous random variables, their probability and sampling distributions, and their application in business analytics; estimation and confidence intervals for (and tests of hypotheses regarding) the population mean in business settings; and correlation and linear regression analysis as business decision-making tools. Software is used to conduct analyses throughout the course.',\n",
       " 'BSTAT 3321.  INTERMEDIATE STATISTICS FOR BUSINESS ANALYTICS.  3 Hours': 'Informing business and economic decision-making with intermediate-level tools of business analytics. Topics can include the quality and representativeness of data; conditional probability; statistical independence; business applications of discrete and continuous probability distributions at the intermediate level; multiple-population inference; non-parametric methods; and intermediate regression analysis. Both spreadsheet and statistical software are used to conduct analyses throughout the course. Prerequisite: MATH 1308 or BSTAT 2305.',\n",
       " 'BSTAT 3322.  ADVANCED STATISTICS FOR BUSINESS ANALYTICS.  3 Hours': 'Advanced statistical methods oriented toward predictive analytics and multivariate methods in business settings. Topics can include experimental design; regression cross-validation; logistic regression; classification and regression trees; cluster analysis; factor analysis and multi-dimensional scaling; and time series analysis and forecasting. Prerequisite: BSTAT 3321.',\n",
       " 'BSTAT 5301.  FOUNDATIONS OF ANALYTICS.  3 Hours': 'Introduction to statistical learning for business analytics, designed to prepare graduate students to become competent consumers of data analytics and statistical information that they will encounter in their professional and personal lives. Students should be able to perform basic statistical analyses and to think critically when interpreting statistical results. Topics include data visualization, spreadsheet analytics, descriptive statistics, probability, estimations, hypothesis testing, and simple regression.',\n",
       " 'BSTAT 5303.  QUANTITATIVE ANALYSIS.  3 Hours': 'Study of the methods of quantitative analysis used in business administration. Topics include matrix algebra, systems of linear equations, differential and integral calculus, linear programming, classical optimization, and a survey of management science models. Prerequisite: MATH 1315.',\n",
       " 'BSTAT 5325.  ADVANCED METHODS FOR ANALYTICS.  3 Hours': 'Advanced statistical learning for business analytics designed to prepare graduate students to become competent producers and consumers of predictive analytics and statistical information and to use evidenced based managerial decision making in their careers. They should be able to recognize the strengths and weaknesses of applicable techniques and when additional expertise is required. Topics include multiple regression, correlation, logistic regression, discriminant analysis, clustering, and classification and regression trees. It is strongly recommended that students who have no recent courses in statistics take BSTAT 5301 prior to BSTAT 5325.',\n",
       " 'BSTAT 5330.  Nonparametric Statistics.  3 Hours': 'A survey of statistical tools which may be used when the normal assumptions of parametric statistics cannot be made; including procedures for categorical data, methods involving ranks, bootstrapping, and Kolmogorov-Smirnov type techniques. Cross-listed with BSAD 6330. Prerequisite: BSTAT 5325 or equivalent.',\n",
       " 'BSTAT 5360.  COMPUTATIONAL TECHNIQUES FOR BUSINESS ANALYTICS.  3 Hours': 'Computer software is the primary analytical tool for business analytics and modern research methods. Data analysts, statisticians, and researchers need technologies and skills using the computer as a tool for structuring and cleaning data sets, creating validation samples, conducting analyses, fitting models, simulating stochastic systems, model validation, and model presentation. Emphasis is placed on the use of data analytic software. Cross-listed with INSY 5360. Prerequisite: BSTAT 5325 or equivalent.',\n",
       " 'BSTAT 5392.  SELECTED TOPICS IN BUSINESS STATISTICS.  3 Hours': 'In-depth study of selected topics in business statistics. May be repeated when topics vary.',\n",
       " 'BSTAT 5399.  GRADUATE BUSINESS ANALYTICS INTERNSHIP.  3 Hours': 'Practical training in business statistics. Analysis of theory applied to real life situations. Course counts as an elective and has a pass/fail grade. No credit will be given for previous experience or activities.',\n",
       " 'BSTAT 6382.  INDEPENDENT STUDIES IN BUSINESS STATISTICS.  3 Hours': 'Extensive analysis of a business statistics topic.',\n",
       " 'INSY 2303.  INTRODUCTION TO M.I': 'S. AND DATA PROCESSING.  3 Hours.Introduction to business data processing, computer programming, management information systems, and problems involved in business information processing systems. Selected software tools are presented and managerial applications are required. Formerly BUSA 2303; credit will be granted only once.',\n",
       " 'INSY 3300.  INTRODUCTION TO PROGRAMMING.  3 Hours': 'An introductory programming course that teaches students how to solve business problems using the scripting language, Python. Students will be exposed to object-oriented programming concepts, file handling, database access, and graphical user interfaces. Prerequisite: INSY 2303.',\n",
       " 'INSY 3303.  COMPUTER NETWORKS AND DISTRIBUTED COMPUTING.  3 Hours': 'Concepts of computer networks and data communications. Topics include principles of communication and networking protocols, hardware and software, architectures, and management issues. Formerly INSY 4304; credit will be granted only once. Prerequisite: INSY 2303.',\n",
       " 'INSY 3304.  DATABASE MANAGEMENT SYSTEMS.  3 Hours': 'Comprehensive coverage of database technology and applications. Data models, query processing (SQL), relational database design, and implementation. Topics covered are hierarchical, network, relational, and object-oriented models, data dictionaries, distributed databases, evaluation and selection of database management systems (DBMS), and data administration. Formerly INSY 4302; credit will be granted only once. Prerequisite: INSY 3300.',\n",
       " 'INSY 3305.  INFORMATION SYSTEMS ANALYSIS AND DESIGN.  3 Hours': 'This is a survey of the concepts and methods of information systems analysis and design, system development life cycle (SDLC) and methodologies associated with the SDLC. Course covers feasibility analysis, requirements definition, systems design, data design, coding design, programming, and implementation. Prerequisite: INSY 3304 and INSY 4305. INSY 4305 may be taken concurrently.',\n",
       " 'INSY 3330.  INTRODUCTION TO E-COMMERCE.  3 Hours': 'Examines current and projected developments in electronic commerce. Topics include the information technologies upon which electronic commerce is based, such as the telecommunications infrastructure; new perspectives on space, time and money in business; electronic consumers and advertising; the effect of e-commerce on logistics and supply chain management; electronic financial markets and digital payment mechanisms; marketing through digital storefronts and virtual corporations; new frontiers of business such as electronic auctions and business to business e-commerce; the relationship between e-commerce and successful business strategy; and finally, public policy. Formerly BUSA 3330; credit will be granted only once. Prerequisite: INSY 2303.',\n",
       " 'INSY 4191.  STUDIES IN INFORMATION SYSTEMS.  1 Hour': 'Advanced studies, on an individual basis, in the various fields of information systems. May be repeated for credit with consent of department chair. Prerequisite: Senior standing and permission of instructor.',\n",
       " 'INSY 4291.  STUDIES IN INFORMATION SYSTEMS.  2 Hours': 'Advanced studies, on an individual basis, in the various fields of information systems. May be repeated for credit with consent of department chair. Prerequisite: 90 credit hours and permission of instructor.',\n",
       " 'INSY 4305.  ADVANCED APPLICATION DEVELOPMENT.  3 Hours': 'This is a comprehensive Java programming course that not only covers the fundamental object-oriented programming (OOP) topics but also includes advanced Java programming concepts. Topics include structured programming concepts like control structures and methods as well as OOP concepts like encapsulation, composition, inheritance, polymorphism, dynamic binding, and interfaces.  The course will also cover Swing components,  exception and error handling, and the basics of file processing. Prerequisite: INSY 3300.',\n",
       " 'INSY 4306.  ADVANCED SYSTEMS DEVELOPMENT.  3 Hours': 'This course will address systems development, testing and deployment using Java. Students will be exposed to advanced Java concepts, including networking, multithreading,  JDBC, advanced file handling, and regular expressions. The course will also cover web services and test-driven development using JUnits. Prerequisite: INSY 4305 and INSY 3305.  INSY 3305 may be taken concurrently.',\n",
       " 'INSY 4307.  CLOUD COMPUTING.  3 Hours': \"This course teaches fundamental aspects of Cloud Computing including Virtualization, Cloud Infrastructure, Networking, and Autoscaling. Students will be taught both concept and practical skills through hands-on assignments using a major Cloud provider's environment (a base for Cloud certifications). Prerequisite: INSY 3300 or equivalent.\",\n",
       " 'INSY 4312.  INTRODUCTION TO CYBERSECURITY.  3 Hours': 'This course provides an introduction to the field of Information Security. It covers terminology, history, management, technology and practice of Information Security. It will address topics in many of the Security Domains specified by ISC2. Prerequisite: INSY 3303.',\n",
       " 'INSY 4313.  BLOCKCHAIN TECHNOLOGY.  3 Hours': 'Students are introduced to fundamental concepts of blockchain technology. First, second, and third generation blockchain technologies are discussed. Students are also assigned case studies and recent research on blockchain to learn the latest developments in the industry.',\n",
       " 'INSY 4324.  ENTERPRISE BUSINESS PROCESS DESIGN.  3 Hours': 'This course introduces the concepts and practices of business process design and the execution of common business processes in enterprise resource planning (ERP) systems. Students will learn to describe key business processes, identify integration points across business processes, and understand the cross-functional nature of business processes. Prerequisite: Junior standing.',\n",
       " 'INSY 4325.  ENTERPRISE SYSTEMS MANAGEMENT.  3 Hours': 'Enterprise systems allow for the integration of firm-wide information. This course focuses on applying IT to satisfy the needs of an organization, and to improve its performance. Knowledge of enterprise systems and how to implement and manage them is essential for managers and for making better decisions. Through case studies and research projects, this course addresses various aspects of enterprise systems and their management, including data integration and standardization. It will also cover advanced topics such as data analytics, cloud computing, Blockchain, AI, and security and privacy. Prerequisite: Prerequisite or concurrent enrollment: INSY 3305 or BANA 4308.',\n",
       " 'INSY 4331.  SEMINAR IN INFORMATION SYSTEMS.  3 Hours': 'Readings and discussion of special topics in information systems. May be repeated for credit with consent of department. Prerequisite: 60 or 90 credit hours and consent of instructor.',\n",
       " 'INSY 4391.  STUDIES IN INFORMATION SYSTEMS.  3 Hours': 'Advanced studies, on an individual basis, in the various fields of information systems. May be repeated for credit with consent of department chair. Prerequisite: 90 credit hours and permission of instructor.',\n",
       " 'INSY 4393.  INFORMATION SYSTEMS INTERNSHIP.  3 Hours': 'Practical training in information systems. Analysis of theory applied to real life situations. May be used as an advanced business elective only; graded on a pass/fail basis. No credit will be given for previous experience or activities. May not be repeated for credit. Prerequisite: Junior standing and consent of department internship advisor.',\n",
       " 'INSY 5182.  INDEPENDENT STUDIES IN INFORMATION SYSTEMS.  1 Hour': 'Extensive analysis of an information systems topic. Prerequisite: permission of instructor.',\n",
       " 'INSY 5199.  GRADUATE INFORMATION SYSTEMS INTERNSHIP.  1 Hour': 'Practical training in information systems. Analysis of theory applied to real life situations.  Course counts as an elective and has a pass/fail grade.  No credit will be given for previous experience or activities.',\n",
       " 'INSY 5299.  GRADUATE INFORMATION SYSTEMS INTERNSHIP.  2 Hours': 'Practical training in information systems. Analysis of theory applied to real life situations.  Course counts as an elective and has a pass/fail grade.  No credit will be given for previous experience or activities.',\n",
       " 'INSY 5309.  OBJECT-ORIENTED BUSINESS PROGRAMMING.  3 Hours': 'Topics include fundamental programming structures, objects and classes, inheritance, and other basic concepts related to OO programming.',\n",
       " 'INSY 5335.  APPLIED DATABASE MANAGEMENT.  3 Hours': 'Concepts, tools, and technologies associated with the design, implementation and management of large databases are presented. Topics include data models (with emphasis on E/R model and relational model), database design and implementation, database query language, transaction management, and distributed databases. Recent advances in data management are also discussed. Use of a commercial DBMS is required. Prerequisite: INSY 5309 or INSY 5336 or approval of MSIS Graduate Advisor.',\n",
       " 'INSY 5336.  PYTHON PROGRAMMING.  3 Hours': 'An introductory programming course that teaches students how to solve business problems using the scripting language, Python. Students will be exposed to object-oriented programming concepts, file handling, database access, and graphical user interfaces.',\n",
       " 'INSY 5337.  DATA WAREHOUSING AND BUSINESS INTELLIGENCE.  3 Hours': 'This course covers concepts, tools, and technologies associated with the design and implementation of data warehousing (DW) and business intelligence (BI) applications. Topics covered include data warehouse architecture and infrastructure, dimensional modeling, Extraction Transformation and Loading (ETL), On Line Analytical Processing (OLAP), data quality, and planning and implementation of a DW & BI application. The course objectives are met through a combination of lectures, class projects and homework assignments. Hands-on experience in developing and deploying a DW & BI application is provided. Prerequisite: INSY 5335 or consent of graduate advisor.',\n",
       " 'INSY 5339.  PRINCIPLES OF BUSINESS DATA MINING.  3 Hours': 'This course will cover the foundations of business data mining.  It will examine tools and techniques from the fields of machine learning and statistics used in practical data mining for finding, and describing, structural patterns in data. Topics may include: Knowledge representation and different types of data; Techniques for data pre-processing, cleaning, reduction, transformation, and visualization; Methods for Classification, Clustering, and Association Rules, including Decision Trees, Rules, Naive Bayes, k Nearest Neighbor, Neural Networks, Regression (linear & logistic), A-Priori, K-means, and hierarchical and density-based clustering; Performance evaluation of data mining algorithms using metrics. This course uses real world data sets and widely used statistical packages and programming languages. Prerequisite: BSTAT 5325 or equivalent.  May be taken concurrently.',\n",
       " 'INSY 5340.  MANAGING THE DIGITAL ENTERPRISE.  3 Hours': 'This course examines a wide variety of topics important to understanding and managing the Digital Enterprise. Topics may include: Internet infrastructure and related technologies; e-business models; security; ethical, legal, global, and social concerns; and managerial and marketing issues.',\n",
       " 'INSY 5341.  ANALYSIS AND DESIGN.  3 Hours': 'Analysis and design phase of systems development life cycle. Topics include systems survey, functional specification, interface specification, data design, program design, system testing, and implementation. Prerequisite: INSY 5335.',\n",
       " 'INSY 5342.  ADVANCED SYSTEMS DESIGN.  3 Hours': 'This course provides an understanding of state-of-the-art software development methodologies, including those that are fast emerging. The focus will be on how these new methods differ from traditional practices and what research opportunities they afford to IS researchers. There will be a strong emphasis on technical as well as on socio-technical aspects of software development in the context of these new methodologies. Prerequisite: INSY 5341.',\n",
       " 'INSY 5343.  DATA COMMUNICATIONS AND NETWORKING.  3 Hours': 'This course discusses technological and managerial issues related to building and managing networks that meet organizational needs, maximize competitive advantage, and protect networks and data from cyber security threats. It addresses fundamental concepts and applications related to data communications and networking including topics such as server architecture, network and transport layers, network design processes and tools, wired and wireless networking, and network security and management.',\n",
       " 'INSY 5345.  CLOUD COMPUTING - THEORY AND PRACTICE.  3 Hours': \"Cloud Computing has become an important component in Digital Transformation and Analytics. This course covers technical aspects of Cloud Computing including Software Defined Networking, Virtual Machines, Data Storage, Cybersecurity, APIs, Load Balancing, Auto-Scaling, Containers, etc. In addition to learning concepts, students will also obtain the highly demanded technical skills through hands-on assignments using a major Cloud provider's environment (a base for Cloud certifications). Business aspects from the Cloud providers' and users' perspectives will also be addressed. Prerequisite: INSY 5336 or equivalent. May be taken concurrently.\",\n",
       " 'INSY 5346.  BUSINESS INNOVATION THROUGH BLOCKCHAIN TECHNNOLOGY.  3 Hours': 'This course covers topics on components of blockchains, cryptocurrencies, smart contracts, tokens, and blockchain governance. Issues such as whether, how, and why businesses in a variety of industries are exploring Blockchain technology to devise potentially disruptive business strategies are also discussed.',\n",
       " 'INSY 5347.  PRINCIPLES OF CYBER SECURITY.  3 Hours': 'This course introduces fundamental concepts, terminologies, models, and practices in cyber security. It addresses managerial, technological, legal, and socio-political issues related to cyber security, and discusses how different fields of disciplines interact in this area. The course covers the common Body of Knowledge of security certification exams.  Topics include emerging technologies and the risks, threats, and vulnerabilities associated with the digital world; ethical, legal, and social aspects of cyber security; risk management; security investigation and analysis. Prerequisite: INSY 5343. May be taken concurrently with INSY 5343.',\n",
       " 'INSY 5350.  HEALTH CARE INFORMATION SYSTEMS.  3 Hours': 'Addresses issues in the development, integration, and management of health care information systems. Specifically, topics in financial information systems, patient care systems, and health care delivery applications will be discussed. Both case studies and real life applications will be studied. Prerequisite: Cohort HCAD Major.',\n",
       " 'INSY 5352.  TOPICS IN OBJECT TECHNOLOGY.  3 Hours': 'Coverage of current topics in Object Technology to include the study of object-oriented agents, components, object request Brokers, distributed objects and related implementations of object-oriented software. Also includes the study of design patterns in object-oriented software design. Prerequisite: INSY 5309.',\n",
       " 'INSY 5355.  MANAGING RISK IN INFORMATION SYSTEMS.  3 Hours': 'This course provides a broad understanding of the fundamentals of risk management and applies them to the cyber security and digital risk management environments. It addresses how risk, threats, and vulnerabilities impact information systems, discusses strategies and approaches for mitigating risk, and introduces the anatomy of how to create a plan that reduces risk. Topics include risk management basics, risk assessment planning, risk mitigation planning, cost-benefit analysis, business continuity and disaster recovery planning. Prerequisite: INSY 5347.',\n",
       " 'INSY 5357.  ENTERPRISE RESOURCE PLANNING.  3 Hours': 'An introduction to enterprise resource planning (ERP), a business management paradigm that integrates all facets of the business, including planning, manufacturing, sales, finance and marketing. Course will cover both the methodology and practice of ERP using commercial software packages.',\n",
       " 'INSY 5360.  COMPUTATIONAL TECHNIQUES FOR BUSINESS ANALYTICS.  3 Hours': 'Computer software is the primary analytical tool for business analytics and modern research methods. Data analysts, statisticians, and researchers need technologies and skills using the computer as a tool for structuring and cleaning data sets, creating validation samples, conducting analyses, fitting models, simulating stochastic systems, model validation, and model presentation. Emphasis is placed on the use of data analytic software. Cross-listed with INSY 5360. Prerequisite: BSTAT 5325 or equivalent.',\n",
       " 'INSY 5373.  INFORMATION SYSTEMS PROJECT MANAGEMENT.  3 Hours': 'This course introduces students to the concepts and practices of project management and their importance to improving the success of information technology projects. Distinct aspects or characteristics of IT projects which cause these projects to behave differently in the corporate world than do other, non-technical, projects will be discussed.',\n",
       " 'INSY 5375.  MANAGEMENT OF INFORMATION TECHNOLOGIES.  3 Hours': 'This course covers topics on the management of information technologies (IT) from the view point of senior managers. Subjects discussed include the strategic role of IT to gain competitive advantage, Internet-based business models, building a lean and agile organization through IT, managing IT security and reliability, evolving models of IT service delivery, such as cloud computing and open source, management of outsourcing, IT governance, and ethical issues in the digital era. In addition to classroom lectures, the course relies heavily on case analysis and discussion to provide a real world perspective of issues related to IT management.',\n",
       " 'INSY 5376.  BIG DATA ANALYTICS.  3 Hours': 'Machine Learning and Artificial Intelligence (AI) are transforming the way organizations harness data to draw business insights. This advanced course focuses on advanced machine learning techniques and deep learning algorithms. Students will receive hands-on training on deep learning models/architectures, including sequential and functional models, convolutional neural networks (CNNs), recurrent neural networks (RNNs), long-short term memory (LSTM), autoencoders, and adversarial networks. The foundations of distributed cluster-computing frameworks, including map-reduce and Spark will also be covered. Prerequisite: INSY 5378.',\n",
       " 'INSY 5377.  WEB AND SOCIAL ANALYTICS.  3 Hours': 'This course introduces the concepts, techniques, and tools of collecting and analyzing digital data on how users interface with an organization through the web and social media. The Internet and mobile technologies provide the vast sources of user data that describe or imply their behaviors, experiences, and attitudes. Analyzing these web (click) stream data and social media data serves the purposes of strengthening customer relationship management, improving online marketing (e.g. advertising, recommendation, pricing), and increasing the bottom line. The course will consist of lectures, case studies, hands-on exercises, and projects. Prerequisite: BSTAT 5325 or equivalent.',\n",
       " 'INSY 5378.  DATA SCIENCE: A PROGRAMMING APPROACH.  3 Hours': 'The world is awash in data and companies are now trying to discern patterns and predict behaviors of both consumers and competitors to gain and sustain a competitive advantage. This course provides an in-depth understanding of data preprocessing/feature engineering as well as machine learning concepts and algorithms using Python. Students will receive hands-on training on supervised learning algorithms such as KNN, Naïve Bayes, Linear and Logistic Regression, Support Vector Machines, Decision Trees and Ensembles, and Artificial Neural Networks (ANNs). The course will also cover the foundations of Natural Language Processing (NLP), Social Network Analysis, and unsupervised learning algorithms such as K-Means, Hierarchical Clustering, t-SNE, and DBSCAN. Prerequisite: INSY 5336 and INSY 5339.',\n",
       " 'INSY 5379.  BUSINESS ANALYTICS CAPSTONE PROJECT.  3 Hours': 'This is a hands-on, project-oriented course that gives students an opportunity to apply their learning to real-world problems. Students will draw on their repertoire of analytical skills to develop appropriate solutions to one or more challenging projects. In-class discussions will include advanced topics in AI, Machine Learning, NLP, and other contemporary technologies. In addition to preparing a detailed report, students will present their findings to faculty and/or members of the business community. The course places considerable emphasis on problem-solving as well as on written and oral communication skills. Prerequisite: INSY 5378.',\n",
       " 'INSY 5380.  SOCIAL NETWORK ANALYSIS.  3 Hours': 'The enormous amount of data being generated by social networking sites as well as social media has the potential to provide insights into the behaviors of people and/or organizations. The course covers various aspects of social network analysis (SNA), including computation of structural characteristics of a network, analysis of ego and complete networks, position and role analysis, and statistical methods used in testing hypotheses related to social networks. In addition to covering the theoretical underpinnings of social networks, the course also emphasizes the analysis of real-world social network data using popular software applications/languages. Prerequisite: INSY 5336.',\n",
       " 'INSY 5382.  INDEPENDENT STUDIES IN INFORMATION SYSTEMS.  3 Hours': 'Extensive analysis of an information systems topic.',\n",
       " 'INSY 5392.  SELECTED TOPICS IN INFORMATION SYSTEMS.  3 Hours': 'In-depth study of selected topics in information systems. May be repeated when topics vary.',\n",
       " 'INSY 5398.  THESIS.  3 Hours': 'Graded F,R,P.',\n",
       " 'INSY 5399.  GRADUATE INFORMATION SYSTEMS INTERNSHIP.  3 Hours': 'Practical training in information systems. Analysis of theory applied to real life situations. Course counts as an elective and has a pass/fail grade. No credit will be given for previous experience or activities.',\n",
       " 'INSY 5698.  THESIS.  6 Hours': 'Graded F, R, P.',\n",
       " 'INSY 6182.  INDEPENDENT STUDY IN INFORMATION SYSTEMS.  1 Hour': 'Doctoral level study of information systems topics. Prerequisite: Doctoral standing.',\n",
       " 'INSY 6301.  SEMINAR IN RESEARCH FOUNDATIONS.  3 Hours': 'Integrative analysis of research in information systems, including research philosophies and methodologies, contemporary research topics, dissertation research and future directions for information systems research. Prerequisite: Doctoral standing.',\n",
       " 'INSY 6306.  SEMINAR IN INFORMATION TECHNOLOGIES.  3 Hours': 'Focuses on contemporary technology issues in IS development and deployment. Prerequisite: Doctoral standing and INSY 6301.',\n",
       " 'INSY 6307.  SEMINAR IN IS MANAGEMENT.  3 Hours': 'Focuses on managerial and organizational issues in IS. Prerequisite: Doctoral standing and INSY 6301.',\n",
       " 'INSY 6382.  INDEPENDENT STUDIES IN INFORMATION SYSTEMS.  3 Hours': 'Extensive analysis of an information systems topic.',\n",
       " 'INSY 6392.  SELECTED TOPICS IN INFORMATION SYSTEMS.  3 Hours': 'Advanced doctoral level topics in Information Systems. May be repeated when topics vary. Prerequisite: Doctoral standing.',\n",
       " 'MASI 5182.  INDEPENDENT STUDIES IN MANAGEMENT SCIENCES.  1 Hour': 'Extensive analysis of a management sciences topic.',\n",
       " 'MASI 5199.  GRADUATE MANAGEMENT SCIENCES INTERNSHIP.  1 Hour': 'Practical training in management science. Analysis of theory applied to real life situations.  Course counts as an elective and has a pass/fail grade.  No credit will be given for previous experience or activities.',\n",
       " 'MASI 5282.  INDEPENDENT STUDIES IN MANAGEMENT SCIENCES.  2 Hours': 'Extensive analysis of a management sciences topic.',\n",
       " 'MASI 5299.  GRADUATE MANAGEMENT SCIENCES INTERNSHIP.  2 Hours': 'Practical training in management science. Analysis of theory applied to real life situations.  Course counts as an elective and has a pass/fail grade.  No credit will be given for previous experience or activities.',\n",
       " 'MASI 5332.  ADVANCED DATA COLLECTION.  3 Hours': 'Surveys, audits, samples and experimental designs contrasted and compared as a basis for statistical inference. Emphasis is on the integration of techniques common to differing areas of business research. Prerequisite: BSTAT 5325.',\n",
       " 'MASI 5382.  INDEPENDENT STUDIES IN MANAGEMENT SCIENCES.  3 Hours': 'Extensive analysis of a management sciences topic.',\n",
       " 'MASI 5399.  GRADUATE MANAGEMENT SCIENCES INTERNSHIP.  3 Hours': 'Practical training in management science. Analysis of theory applied to real life situations.  Course counts as an elective and has a pass/fail grade.  No credit will be given for previous experience or activities.',\n",
       " 'MASI 6309.  MULTIVARIATE STATISTICAL METHODS.  3 Hours': 'Focuses on methods of analyzing mean and covariance structures. Topics include commonly applied multivariate methods such as multiple analysis of variance, repeated measures, discriminant analysis, profile analysis, canonical correlations, and factor analytic methods. The use of matrix algebra and available computer packages will be stressed. Prerequisite: Doctoral standing and BSTAT 5325.',\n",
       " 'OPMA 3306.  OPERATIONS MANAGEMENT.  3 Hours': 'Introduction to concepts and problem-solving techniques important in operations management and production management. Topics include demand forecasting, capacity management, resource allocation, inventory management, supply chain management, quality control, project management. Prerequisite: Concurrent enrollment with BSTAT 3321 or BSTAT 3322.',\n",
       " 'OPMA 3308.  OPERATIONS PLANNING AND CONTROL.  3 Hours': 'Course covers operations planning and control systems in manufacturing and service organizations. Topics include inventory control, material requirements planning, Just-in-Time and lean manufacturing, production scheduling, capacity planning, operations planning and control software. Prerequisite: OPMA 3306.',\n",
       " 'OPMA 3310.  PROJECT MANAGEMENT.  3 Hours': 'Course covers concepts and issues important in effectively managing projects. Topics include project selection, project planning, negotiation, budgeting, scheduling, resource allocation, project control, project auditing, and project termination. Corequisite: OPMA 3306.',\n",
       " 'OPMA 4191.  STUDIES IN OPERATIONS MANAGEMENT.  1 Hour': 'Advanced studies, on an individual basis, in the various fields of operations management. May be repeated for credit with consent of department chair.  Prerequisite: 90 credit hours and permission of instructor.',\n",
       " 'OPMA 4291.  STUDIES IN OPERATIONS MANAGEMENT.  2 Hours': 'Advanced studies, on an individual basis, in the various fields of operations management. May be repeated for credit with consent of department chair. Prerequisite: 90 credit hours and permission of instructor.',\n",
       " 'OPMA 4301.  COMPUTER MODELS IN OPERATIONS MANAGEMENT.  3 Hours': 'Course covers applications of computer models used in operations management. Prerequisite: OPMA 3306.',\n",
       " 'OPMA 4302.  SUPPLY CHAIN LOGISTICS.  3 Hours': 'Physical supply, in-plant movement and storage, and physical distribution which comprise logistics systems in industry. Topics include facility location, transportation, warehousing, inventory control, distribution networks, and logistics information systems. Prerequisite: OPMA 3306.',\n",
       " 'OPMA 4303.  INTRODUCTION TO MANAGEMENT SCIENCES.  3 Hours': 'Introduction to optimization and quantitative analysis of business problems. Topics include applications of linear and integer programming, network analysis, simulation, game theory, queuing theory, and other operations research tools. Prerequisite: OPMA 3306, may be taken concurrently.',\n",
       " 'OPMA 4307.  QUALITY PLANNING AND ANALYSIS.  3 Hours': 'Quality of products and services needed by society, to include consideration of quality costs and improvements, designing for quality, process controls, inspections, testing, acceptance sampling, management controls, and quality information systems. Prerequisite: OPMA 3306 and BUSA 3321/STAT 3321.',\n",
       " 'OPMA 4309.  GLOBAL SUPPLY CHAIN MANAGEMENT.  3 Hours': 'Course covers concepts and issues important in managing supply chains. A strategic view is taken of the way companies coordinate their operations with suppliers and customers in a global marketplace. The strategic use of information systems to better manage supply chains is also covered. Prerequisite: OPMA 3306 and OPMA 4302.',\n",
       " 'OPMA 4310.  SUPPLY CHAIN ANALYTICS-THEORY AND PRACTICE.  3 Hours': 'Analytics is used to assist decision makers to make well-informed data-driven decisions. The course covers Analytics techniques and tools used in Supply Chain. It covers various quantitative techniques and advanced technologies, such as data mining, big data, statistics, etc. In addition to learning concepts, students will also learn widely used advanced tools hands-on. Prerequisite: OPMA 3306 and basic computer knowledge.',\n",
       " 'OPMA 4312.  PURCHASING MANAGEMENT.  3 Hours': 'Examines the purchasing management role and responsibilities in the firm. This will cover issues of quality, solicitation techniques, source selection, pricing principles, legal aspects, value analysis, purchasing systems and ongoing administration of commercial, industrial and government contracts. Prerequisite: OPMA 3306 and OPMA 4302.',\n",
       " 'OPMA 4314.  SERVICE OPERATIONS.  3 Hours': 'Service operations make up the fastest-growing segment in economies throughout the developed world. This course is intended to help emerging business leaders understand challenges and opportunities inherent in the unique nature of service operations. This course emphasizes both strategic and tactical decision-making, with a focus on the effective design, delivery and improvement of service outputs. Prerequisite: OPMA 3306.',\n",
       " 'OPMA 4331.  SEMINAR IN OPERATIONS MANAGEMENT.  3 Hours': 'Readings and discussion of special topics in operations management. May be repeated for credit with consent of department chair. Prerequisite: Junior or senior standing and consent of instructor.',\n",
       " 'OPMA 4391.  STUDIES IN OPERATIONS MANAGEMENT.  3 Hours': 'Advanced studies, on an individual basis, in the various fields of operations management. May be repeated for credit with consent of department chair. Prerequisite: 90 credit hours and permission of instruction.',\n",
       " 'OPMA 4393.  OPERATIONS MANAGEMENT INTERNSHIP.  3 Hours': 'Practical training in operations management. Analysis of theory applied to real life situations. May be used as an advanced business elective only; graded on a pass/fail basis. No credit will be given for previous experience or activities. May not be repeated for credit. Prerequisite: Junior standing and consent of department internship advisor.',\n",
       " 'OPMA 5199.  GRADUATE OPERATIONS MANAGEMENT INTERNSHIP.  1 Hour': 'Practical training in operations management. Analysis of theory applied to real life situations.  Course counts as an elective and has a pass/fail grade.  No credit will be given for previous experience or activities.',\n",
       " 'OPMA 5299.  GRADUATE OPERATIONS MANAGEMENT INTERNSHIP.  2 Hours': 'Practical training in operations management. Analysis of theory applied to real life situations.  Course counts as an elective and has a pass/fail grade.  No credit will be given for previous experience or activities.',\n",
       " 'OPMA 5321.  INTRODUCTION TO MANAGEMENT SCIENCES.  3 Hours': 'Introduction to optimization and quantitative analysis of business problems. Topics include applications of linear and integer programming, network analysis, simulation, game theory, queuing theory, and other operations research tools.',\n",
       " 'OPMA 5361.  OPERATIONS MANAGEMENT.  3 Hours': 'Introduction to concepts and problem-solving techniques important in production management and operations management. Topics include demand forecasting, capacity management, resource allocation, inventory management, supply chain management, quality control, and project management. Prerequisite: BSTAT 5301 or equivalent.',\n",
       " 'OPMA 5362.  SERVICES OPERATIONS.  3 Hours': 'Service operations make up the fastest-growing segment in economies throughout the developed world. This course is intended to help emerging business leaders understand challenges and opportunities inherent in the unique nature of service operations. This course emphasizes both strategic and tactical decision-making, with a focus on the effective design, delivery and improvement of service outputs. Prerequisite: OPMA 5361.',\n",
       " 'OPMA 5363.  OPERATIONS PLANNING AND CONTROL.  3 Hours': 'Course covers operations planning and control systems in manufacturing and service organizations. Topics include inventory control, material requirements planning, Just-In-Time and lean manufacturing, production scheduling, capacity planning, and operations planning and control software. Previous introductory course in operations management suggested.',\n",
       " 'OPMA 5364.  PROJECT MANAGEMENT.  3 Hours': 'Course covers concepts and issues important in effectively managing projects. Topics include project selection, project planning, negotiation, budgeting, scheduling, resource allocation, project control, project auditing, and project termination.',\n",
       " 'OPMA 5365.  PURCHASING MANAGEMENT.  3 Hours': 'Examines the purchasing management role and responsibilities in the firm. This will cover issues of quality, solicitation techniques, source selection, pricing principles, legal aspects, value analysis, purchasing systems and ongoing administration of commercial, industrial and government contracts. Prerequisite: OPMA 5361 and OPMA 5369.',\n",
       " 'OPMA 5367.  QUALITY MANAGEMENT.  3 Hours': 'Course focuses on quality of products and services needed by society. Topics include consideration of quality cost and improvements, designing for quality, process controls, inspections, testing, acceptance sampling, management controls, and quality information systems. Previous introductory course in statistics suggested.',\n",
       " 'OPMA 5368.  GLOBAL SUPPLY CHAIN MANAGEMENT.  3 Hours': 'Course covers concepts and issues important in managing supply chains. A strategic view is taken of the way companies coordinate their operations with suppliers and customers in a global marketplace. The strategic use of information systems to better manage supply chains is also covered. Previous introductory course in operations management suggested. Prerequisite: OPMA 5361 and OPMA 5369.',\n",
       " 'OPMA 5369.  SUPPLY CHAIN LOGISTICS.  3 Hours': 'Course covers physical supply, in-plant movement and storage, and physical distribution of materials, which comprise logistics systems in industry. Topics include facility location, transportation, warehousing, inventory control, distribution networks, and logistics information systems. Previous introductory course in operations management suggested. Prerequisite: OPMA 5361 or equivalent.',\n",
       " 'OPMA 5379.  ORGANIZATIONAL RESEARCH PROJECT.  3 Hours': 'Students conduct a research project at a local organization, focusing on applications of business concepts studied in their coursework. Prerequisite:  Cohort MBA Major.',\n",
       " 'OPMA 5382.  INDEPENDENT STUDIES IN OPERATIONS MANAGEMENT.  3 Hours': 'Extensive analysis of an Operations Management topic.',\n",
       " 'OPMA 5389.  INDEPENDENT STUDIES IN MILITARY ACQUISITION.  3 Hours': 'This course is reserved for military officers in the Training with Industry or I-Grade programs at UT Arlington.  Studies consist of an acquisition practicum with training at an assigned agency and a required seminar at UT Arlington.',\n",
       " 'OPMA 5392.  SELECTED TOPICS IN  OPERATIONS MANAGEMENT.  3 Hours': 'In-depth study of selected topics in operations management. May be repeated when topics vary.',\n",
       " 'OPMA 5399.  GRADUATE OPERATIONS MANAGEMENT INTERNSHIP.  3 Hours': 'Practical training in operations management. Analysis of theory applied to real life situations.  Course counts as an elective and has a pass/fail grade.  No credit will be given for previous experience or activities.',\n",
       " 'OPMA 5689.  INDEPENDENT STUDIES IN MILITARY ACQUISITION.  6 Hours': 'This course is reserved for military officers in the Training with Industry or I-GRAD programs at UT Arlington.  Studies consist of an acquisition practicum with training at an assigned agency and a required seminar at UT Arlington.',\n",
       " 'OPMA 5989.  INDEPENDENT STUDIES IN MILITARY ACQUISITION.  9 Hours': 'This course is reserved for military officers in the Training with Industry or I-Grade programs at UT Arlington.  Studies consist of an acquisition practicum with training at an assigned agency and a required seminar at UT Arlington.',\n",
       " 'OPMA 6370.  SEMINAR IN OPERATIONS MANAGEMENT.  3 Hours': 'Doctoral seminar that is a comprehensive and integrative study of operations management that focuses on theoretical frameworks, applications of models, and methods of analysis. Prerequisite: Doctoral standing.',\n",
       " 'OPMA 6371.  INTEGRATED OPERATIONS STRATEGY AND RESEARCH.  3 Hours': 'Linkages between the manufacturing and strategy development functions. Research issues within production/operations management. Current techniques/designs for achieving effective research. Prerequisite: Doctoral standing and previous introductory course in operations management suggested.',\n",
       " 'OPMA 6380.  RESEARCH IN OPERATIONS MANAGEMENT.  3 Hours': 'Independent research under the supervision of a faculty member. May be repeated for credit. Prerequisite: Doctoral standing.',\n",
       " 'OPMA 6382.  INDEPENDENT STUDIES IN OPERATIONS MANAGEMENT.  3 Hours': 'Extensive analysis of an operations management topic.',\n",
       " 'OPMA 6392.  SPECIAL TOPICS IN OPERATIONS MANAGEMENT.  3 Hours': 'Advanced doctoral level topics in Operations Management. May be repeated when topics vary. Prerequisite: Doctoral standing.'}"
      ]
     },
     "execution_count": 9,
     "metadata": {},
     "output_type": "execute_result"
    }
   ],
   "source": [
    "courses_dict"
   ]
  },
  {
   "cell_type": "markdown",
   "metadata": {},
   "source": [
    "# Find all courses that contain the keyword \"machine learning\" in their description"
   ]
  },
  {
   "cell_type": "code",
   "execution_count": 10,
   "metadata": {},
   "outputs": [
    {
     "name": "stdout",
     "output_type": "stream",
     "text": [
      "1\n",
      "Course title: BANA 3308.  INTRODUCTION TO BUSINESS ANALYTICS.  3 Hours.\n",
      "Course description: This course introduces students to data mining and business analytics techniques that will enable them to draw actionable insights from data. In addition to tracing the evolution of ideas in Artificial Intelligence (AI), Machine Learning (ML), and Deep Learning (DL), the course provides hands-on exposure to state-of-the-art machine learning algorithms-such as linear, ensemble, and neural network models-that organizations rely on to derive business value. Prerequisite: BSTAT 3321 and INSY 3300.\n",
      "2\n",
      "Course title: BANA 4308.  ADVANCED DATA SCIENCE.  3 Hours.\n",
      "Course description: This course provides an in-depth understanding of machine learning concepts and algorithms using Python. Students will receive hands-on training on supervised learning algorithms such as KNN, Naïve Bayes, Linear and Logistic Regression, Support Vector Machines, Decision Trees and Ensembles, and Artificial Neural Networks (ANNs). The course will also cover foundations of Natural Language Processing (NLP) and unsupervised learning algorithms such as K-Means, Hierarchical Clustering, and DBSCAN. Prerequisite: BANA 3308 and BANA 3309.\n",
      "3\n",
      "Course title: BANA 4311.  ETHICAL AND SOCIAL ISSUES IN DATA SCIENCE.  3 Hours.\n",
      "Course description: This course discusses ethical concerns and social issues related to the creation, storage, analysis, use, and dissemination of data arising from business applications of machine learning, artificial intelligence, predictive analytics and data science. Topics include fairness, validity, anonymity, privacy, ownership, human subject research and societal consequences of data analysis and use by business organizations. Prerequisite: BANA 3308.\n",
      "4\n",
      "Course title: INSY 5339.  PRINCIPLES OF BUSINESS DATA MINING.  3 Hours.\n",
      "Course description: This course will cover the foundations of business data mining.  It will examine tools and techniques from the fields of machine learning and statistics used in practical data mining for finding, and describing, structural patterns in data. Topics may include: Knowledge representation and different types of data; Techniques for data pre-processing, cleaning, reduction, transformation, and visualization; Methods for Classification, Clustering, and Association Rules, including Decision Trees, Rules, Naive Bayes, k Nearest Neighbor, Neural Networks, Regression (linear & logistic), A-Priori, K-means, and hierarchical and density-based clustering; Performance evaluation of data mining algorithms using metrics. This course uses real world data sets and widely used statistical packages and programming languages. Prerequisite: BSTAT 5325 or equivalent.  May be taken concurrently.\n",
      "5\n",
      "Course title: INSY 5376.  BIG DATA ANALYTICS.  3 Hours.\n",
      "Course description: Machine Learning and Artificial Intelligence (AI) are transforming the way organizations harness data to draw business insights. This advanced course focuses on advanced machine learning techniques and deep learning algorithms. Students will receive hands-on training on deep learning models/architectures, including sequential and functional models, convolutional neural networks (CNNs), recurrent neural networks (RNNs), long-short term memory (LSTM), autoencoders, and adversarial networks. The foundations of distributed cluster-computing frameworks, including map-reduce and Spark will also be covered. Prerequisite: INSY 5378.\n",
      "6\n",
      "Course title: INSY 5378.  DATA SCIENCE: A PROGRAMMING APPROACH.  3 Hours.\n",
      "Course description: The world is awash in data and companies are now trying to discern patterns and predict behaviors of both consumers and competitors to gain and sustain a competitive advantage. This course provides an in-depth understanding of data preprocessing/feature engineering as well as machine learning concepts and algorithms using Python. Students will receive hands-on training on supervised learning algorithms such as KNN, Naïve Bayes, Linear and Logistic Regression, Support Vector Machines, Decision Trees and Ensembles, and Artificial Neural Networks (ANNs). The course will also cover the foundations of Natural Language Processing (NLP), Social Network Analysis, and unsupervised learning algorithms such as K-Means, Hierarchical Clustering, t-SNE, and DBSCAN. Prerequisite: INSY 5336 and INSY 5339.\n",
      "7\n",
      "Course title: INSY 5379.  BUSINESS ANALYTICS CAPSTONE PROJECT.  3 Hours.\n",
      "Course description: This is a hands-on, project-oriented course that gives students an opportunity to apply their learning to real-world problems. Students will draw on their repertoire of analytical skills to develop appropriate solutions to one or more challenging projects. In-class discussions will include advanced topics in AI, Machine Learning, NLP, and other contemporary technologies. In addition to preparing a detailed report, students will present their findings to faculty and/or members of the business community. The course places considerable emphasis on problem-solving as well as on written and oral communication skills. Prerequisite: INSY 5378.\n"
     ]
    }
   ],
   "source": [
    "course_count = 0\n",
    "for title, description in courses_dict.items():\n",
    "    # Only print the ones that have \"machine learning\" in their description\n",
    "    if 'machine learning' in description.lower():\n",
    "        course_count += 1\n",
    "        print(f'{course_count}\\nCourse title: {title}.\\nCourse description: {description}')"
   ]
  },
  {
   "cell_type": "code",
   "execution_count": null,
   "metadata": {},
   "outputs": [],
   "source": []
  }
 ],
 "metadata": {
  "kernelspec": {
   "display_name": "asheesh",
   "language": "python",
   "name": "asheesh"
  },
  "language_info": {
   "codemirror_mode": {
    "name": "ipython",
    "version": 3
   },
   "file_extension": ".py",
   "mimetype": "text/x-python",
   "name": "python",
   "nbconvert_exporter": "python",
   "pygments_lexer": "ipython3",
   "version": "3.7.13"
  }
 },
 "nbformat": 4,
 "nbformat_minor": 4
}
