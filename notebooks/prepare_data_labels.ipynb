{
 "cells": [
  {
   "cell_type": "code",
   "execution_count": 2,
   "metadata": {},
   "outputs": [],
   "source": [
    "import os\n",
    "import random\n",
    "import pandas as pd"
   ]
  },
  {
   "cell_type": "code",
   "execution_count": 3,
   "metadata": {},
   "outputs": [],
   "source": [
    "data_dir = \"/data/fmri/data\""
   ]
  },
  {
   "cell_type": "code",
   "execution_count": 19,
   "metadata": {},
   "outputs": [],
   "source": [
    "def get_bin_class(score):\n",
    "    if score < 10:\n",
    "        return 0\n",
    "    elif score >= 10 and score < 20:\n",
    "        return 1\n",
    "    elif score >= 20 and score < 40:\n",
    "        return 2\n",
    "    elif score >= 40 and score < 60:\n",
    "        return 3\n",
    "    elif score >= 60 and score < 80:\n",
    "        return 4\n",
    "    else:\n",
    "        return 5"
   ]
  },
  {
   "cell_type": "code",
   "execution_count": 20,
   "metadata": {},
   "outputs": [],
   "source": [
    "def get_score(sub_path, img_name):\n",
    "    sess_id = img_name.split(\".scale\")[0][-1]\n",
    "    n_back = img_name[0]\n",
    "    file_path = os.path.join(sub_path, f\"{n_back}back_VAS-f.1D\")\n",
    "    with open(file_path, \"r\") as label_file:\n",
    "        scores = label_file.readlines()\n",
    "        try:\n",
    "            return int(scores[int(sess_id)].replace(\"\\n\", \"\")), sess_id, n_back\n",
    "        except IndexError:\n",
    "            return None"
   ]
  },
  {
   "cell_type": "code",
   "execution_count": 21,
   "metadata": {},
   "outputs": [],
   "source": [
    "def paths_to_csv(subs):\n",
    "    table = [] # with columns [\"img_path\", \"sub_id\", \"group\", \"score\"]\n",
    "    for group in subs:\n",
    "        for sub_id in subs[group]:\n",
    "            sub = f\"sub-{group}{str(sub_id).zfill(3)}\"\n",
    "            sub_path = os.path.join(data_dir, sub)\n",
    "            for img_name in os.listdir(os.path.join(sub_path, f\"{sub}.preproc\")):\n",
    "                if \"nii.gz\" not in img_name:\n",
    "                    continue\n",
    "                img_path = os.path.join(sub_path, f\"{sub}.preproc\", img_name)\n",
    "                score, sess_id, n_back = get_score(sub_path, img_name)\n",
    "                table.append([img_path, sub_id, sess_id, n_back, group, score, get_bin_class(score)])\n",
    "\n",
    "    table_df = pd.DataFrame(table)\n",
    "    table_df.columns = [\"img_path\", \"sub_id\", \"sess_id\", \"n_back\", \"group\", \"score\", \"bin_class\"]\n",
    "    return table_df"
   ]
  },
  {
   "cell_type": "code",
   "execution_count": 22,
   "metadata": {},
   "outputs": [],
   "source": [
    "hc_subs = [1, 2, 3, 4, 5, 7, 9, 10, 11, 12, 16, 19, 20, 21, 22, 23, 24, 25, 28, 29, 30, 31, 33, 34]\n",
    "tbi_subs = [1, 2, 3, 4, 5, 6, 8, 9, 10, 11, 12, 13, 14, 15, 16, 17, 18, 19, 20, 22, 23, 24, 25, 27, 29, 30, 34, 35, 36]\n",
    "subs = {\"hc\": hc_subs, \"tbi\": tbi_subs}"
   ]
  },
  {
   "cell_type": "code",
   "execution_count": 4,
   "metadata": {},
   "outputs": [
    {
     "ename": "NameError",
     "evalue": "name 'paths_to_csv' is not defined",
     "output_type": "error",
     "traceback": [
      "\u001b[0;31m---------------------------------------------------------------------------\u001b[0m",
      "\u001b[0;31mNameError\u001b[0m                                 Traceback (most recent call last)",
      "\u001b[0;32m<ipython-input-4-baa16ce5d97a>\u001b[0m in \u001b[0;36m<module>\u001b[0;34m\u001b[0m\n\u001b[0;32m----> 1\u001b[0;31m \u001b[0mpaths\u001b[0m \u001b[0;34m=\u001b[0m \u001b[0mpaths_to_csv\u001b[0m\u001b[0;34m(\u001b[0m\u001b[0msubs\u001b[0m\u001b[0;34m)\u001b[0m\u001b[0;34m\u001b[0m\u001b[0;34m\u001b[0m\u001b[0m\n\u001b[0m\u001b[1;32m      2\u001b[0m \u001b[0mpaths\u001b[0m\u001b[0;34m.\u001b[0m\u001b[0mhead\u001b[0m\u001b[0;34m(\u001b[0m\u001b[0;34m)\u001b[0m\u001b[0;34m\u001b[0m\u001b[0;34m\u001b[0m\u001b[0m\n",
      "\u001b[0;31mNameError\u001b[0m: name 'paths_to_csv' is not defined"
     ]
    }
   ],
   "source": [
    "paths = paths_to_csv(subs)\n",
    "paths.head()"
   ]
  },
  {
   "cell_type": "code",
   "execution_count": 24,
   "metadata": {},
   "outputs": [],
   "source": [
    "paths.to_csv(\"fmri_img_paths.csv\")"
   ]
  },
  {
   "cell_type": "markdown",
   "metadata": {},
   "source": [
    "## Scores Visualization and Analysis"
   ]
  },
  {
   "cell_type": "code",
   "execution_count": 43,
   "metadata": {},
   "outputs": [],
   "source": [
    "paths = pd.read_csv('fmri_img_paths.csv')"
   ]
  },
  {
   "cell_type": "code",
   "execution_count": 44,
   "metadata": {},
   "outputs": [
    {
     "data": {
      "text/html": [
       "<div>\n",
       "<style scoped>\n",
       "    .dataframe tbody tr th:only-of-type {\n",
       "        vertical-align: middle;\n",
       "    }\n",
       "\n",
       "    .dataframe tbody tr th {\n",
       "        vertical-align: top;\n",
       "    }\n",
       "\n",
       "    .dataframe thead th {\n",
       "        text-align: right;\n",
       "    }\n",
       "</style>\n",
       "<table border=\"1\" class=\"dataframe\">\n",
       "  <thead>\n",
       "    <tr style=\"text-align: right;\">\n",
       "      <th></th>\n",
       "      <th>Unnamed: 0</th>\n",
       "      <th>img_path</th>\n",
       "      <th>sub_id</th>\n",
       "      <th>sess_id</th>\n",
       "      <th>n_back</th>\n",
       "      <th>group</th>\n",
       "      <th>score</th>\n",
       "      <th>bin_class</th>\n",
       "    </tr>\n",
       "  </thead>\n",
       "  <tbody>\n",
       "    <tr>\n",
       "      <th>0</th>\n",
       "      <td>0</td>\n",
       "      <td>/data/fmri/data/sub-hc001/sub-hc001.preproc/0b...</td>\n",
       "      <td>1</td>\n",
       "      <td>4</td>\n",
       "      <td>0</td>\n",
       "      <td>hc</td>\n",
       "      <td>30</td>\n",
       "      <td>2</td>\n",
       "    </tr>\n",
       "    <tr>\n",
       "      <th>1</th>\n",
       "      <td>1</td>\n",
       "      <td>/data/fmri/data/sub-hc001/sub-hc001.preproc/0b...</td>\n",
       "      <td>1</td>\n",
       "      <td>2</td>\n",
       "      <td>0</td>\n",
       "      <td>hc</td>\n",
       "      <td>25</td>\n",
       "      <td>2</td>\n",
       "    </tr>\n",
       "    <tr>\n",
       "      <th>2</th>\n",
       "      <td>2</td>\n",
       "      <td>/data/fmri/data/sub-hc001/sub-hc001.preproc/0b...</td>\n",
       "      <td>1</td>\n",
       "      <td>3</td>\n",
       "      <td>0</td>\n",
       "      <td>hc</td>\n",
       "      <td>30</td>\n",
       "      <td>2</td>\n",
       "    </tr>\n",
       "    <tr>\n",
       "      <th>3</th>\n",
       "      <td>3</td>\n",
       "      <td>/data/fmri/data/sub-hc001/sub-hc001.preproc/0b...</td>\n",
       "      <td>1</td>\n",
       "      <td>1</td>\n",
       "      <td>0</td>\n",
       "      <td>hc</td>\n",
       "      <td>25</td>\n",
       "      <td>2</td>\n",
       "    </tr>\n",
       "    <tr>\n",
       "      <th>4</th>\n",
       "      <td>4</td>\n",
       "      <td>/data/fmri/data/sub-hc001/sub-hc001.preproc/2b...</td>\n",
       "      <td>1</td>\n",
       "      <td>4</td>\n",
       "      <td>2</td>\n",
       "      <td>hc</td>\n",
       "      <td>20</td>\n",
       "      <td>2</td>\n",
       "    </tr>\n",
       "    <tr>\n",
       "      <th>...</th>\n",
       "      <td>...</td>\n",
       "      <td>...</td>\n",
       "      <td>...</td>\n",
       "      <td>...</td>\n",
       "      <td>...</td>\n",
       "      <td>...</td>\n",
       "      <td>...</td>\n",
       "      <td>...</td>\n",
       "    </tr>\n",
       "    <tr>\n",
       "      <th>409</th>\n",
       "      <td>409</td>\n",
       "      <td>/data/fmri/data/sub-tbi036/sub-tbi036.preproc/...</td>\n",
       "      <td>36</td>\n",
       "      <td>4</td>\n",
       "      <td>2</td>\n",
       "      <td>tbi</td>\n",
       "      <td>0</td>\n",
       "      <td>0</td>\n",
       "    </tr>\n",
       "    <tr>\n",
       "      <th>410</th>\n",
       "      <td>410</td>\n",
       "      <td>/data/fmri/data/sub-tbi036/sub-tbi036.preproc/...</td>\n",
       "      <td>36</td>\n",
       "      <td>2</td>\n",
       "      <td>0</td>\n",
       "      <td>tbi</td>\n",
       "      <td>0</td>\n",
       "      <td>0</td>\n",
       "    </tr>\n",
       "    <tr>\n",
       "      <th>411</th>\n",
       "      <td>411</td>\n",
       "      <td>/data/fmri/data/sub-tbi036/sub-tbi036.preproc/...</td>\n",
       "      <td>36</td>\n",
       "      <td>3</td>\n",
       "      <td>0</td>\n",
       "      <td>tbi</td>\n",
       "      <td>0</td>\n",
       "      <td>0</td>\n",
       "    </tr>\n",
       "    <tr>\n",
       "      <th>412</th>\n",
       "      <td>412</td>\n",
       "      <td>/data/fmri/data/sub-tbi036/sub-tbi036.preproc/...</td>\n",
       "      <td>36</td>\n",
       "      <td>1</td>\n",
       "      <td>0</td>\n",
       "      <td>tbi</td>\n",
       "      <td>0</td>\n",
       "      <td>0</td>\n",
       "    </tr>\n",
       "    <tr>\n",
       "      <th>413</th>\n",
       "      <td>413</td>\n",
       "      <td>/data/fmri/data/sub-tbi036/sub-tbi036.preproc/...</td>\n",
       "      <td>36</td>\n",
       "      <td>4</td>\n",
       "      <td>0</td>\n",
       "      <td>tbi</td>\n",
       "      <td>0</td>\n",
       "      <td>0</td>\n",
       "    </tr>\n",
       "  </tbody>\n",
       "</table>\n",
       "<p>414 rows × 8 columns</p>\n",
       "</div>"
      ],
      "text/plain": [
       "     Unnamed: 0                                           img_path  sub_id  \\\n",
       "0             0  /data/fmri/data/sub-hc001/sub-hc001.preproc/0b...       1   \n",
       "1             1  /data/fmri/data/sub-hc001/sub-hc001.preproc/0b...       1   \n",
       "2             2  /data/fmri/data/sub-hc001/sub-hc001.preproc/0b...       1   \n",
       "3             3  /data/fmri/data/sub-hc001/sub-hc001.preproc/0b...       1   \n",
       "4             4  /data/fmri/data/sub-hc001/sub-hc001.preproc/2b...       1   \n",
       "..          ...                                                ...     ...   \n",
       "409         409  /data/fmri/data/sub-tbi036/sub-tbi036.preproc/...      36   \n",
       "410         410  /data/fmri/data/sub-tbi036/sub-tbi036.preproc/...      36   \n",
       "411         411  /data/fmri/data/sub-tbi036/sub-tbi036.preproc/...      36   \n",
       "412         412  /data/fmri/data/sub-tbi036/sub-tbi036.preproc/...      36   \n",
       "413         413  /data/fmri/data/sub-tbi036/sub-tbi036.preproc/...      36   \n",
       "\n",
       "     sess_id  n_back group  score  bin_class  \n",
       "0          4       0    hc     30          2  \n",
       "1          2       0    hc     25          2  \n",
       "2          3       0    hc     30          2  \n",
       "3          1       0    hc     25          2  \n",
       "4          4       2    hc     20          2  \n",
       "..       ...     ...   ...    ...        ...  \n",
       "409        4       2   tbi      0          0  \n",
       "410        2       0   tbi      0          0  \n",
       "411        3       0   tbi      0          0  \n",
       "412        1       0   tbi      0          0  \n",
       "413        4       0   tbi      0          0  \n",
       "\n",
       "[414 rows x 8 columns]"
      ]
     },
     "execution_count": 44,
     "metadata": {},
     "output_type": "execute_result"
    }
   ],
   "source": [
    "paths"
   ]
  },
  {
   "cell_type": "code",
   "execution_count": 47,
   "metadata": {},
   "outputs": [
    {
     "data": {
      "text/plain": [
       "group  bin_class\n",
       "hc     0            111\n",
       "       2             39\n",
       "       1             32\n",
       "       3              5\n",
       "       4              4\n",
       "tbi    0             87\n",
       "       5             46\n",
       "       3             28\n",
       "       2             24\n",
       "       4             22\n",
       "       1             16\n",
       "Name: bin_class, dtype: int64"
      ]
     },
     "execution_count": 47,
     "metadata": {},
     "output_type": "execute_result"
    }
   ],
   "source": [
    "paths.groupby(by=[\"group\"])['bin_class'].value_counts()"
   ]
  },
  {
   "cell_type": "code",
   "execution_count": 6,
   "metadata": {},
   "outputs": [
    {
     "data": {
      "text/plain": [
       "<matplotlib.axes._subplots.AxesSubplot at 0x7f291c97db70>"
      ]
     },
     "execution_count": 6,
     "metadata": {},
     "output_type": "execute_result"
    },
    {
     "data": {
      "image/png": "[encoded data removed]",
      "text/plain": [
       "<Figure size 432x288 with 1 Axes>"
      ]
     },
     "metadata": {
      "needs_background": "light"
     },
     "output_type": "display_data"
    }
   ],
   "source": [
    "paths['bin_class'].value_counts().plot.bar()"
   ]
  },
  {
   "cell_type": "code",
   "execution_count": 7,
   "metadata": {},
   "outputs": [
    {
     "data": {
      "text/plain": [
       "<matplotlib.axes._subplots.AxesSubplot at 0x7f291a61d2b0>"
      ]
     },
     "execution_count": 7,
     "metadata": {},
     "output_type": "execute_result"
    },
    {
     "data": {
      "image/png": "[encoded data removed]",
      "text/plain": [
       "<Figure size 432x288 with 1 Axes>"
      ]
     },
     "metadata": {
      "needs_background": "light"
     },
     "output_type": "display_data"
    }
   ],
   "source": [
    "paths.groupby(by=[\"sess_id\"])['bin_class'].value_counts().plot.bar()"
   ]
  },
  {
   "cell_type": "code",
   "execution_count": 8,
   "metadata": {},
   "outputs": [
    {
     "data": {
      "text/plain": [
       "<matplotlib.axes._subplots.AxesSubplot at 0x7f291a674a58>"
      ]
     },
     "execution_count": 8,
     "metadata": {},
     "output_type": "execute_result"
    },
    {
     "data": {
      "image/png": "[encoded data removed]",
      "text/plain": [
       "<Figure size 432x288 with 1 Axes>"
      ]
     },
     "metadata": {
      "needs_background": "light"
     },
     "output_type": "display_data"
    }
   ],
   "source": [
    "paths[paths[\"group\"]==\"tbi\"].groupby(by=[\"sess_id\"])['bin_class'].value_counts().plot.bar()"
   ]
  },
  {
   "cell_type": "code",
   "execution_count": 9,
   "metadata": {},
   "outputs": [
    {
     "data": {
      "text/plain": [
       "<matplotlib.axes._subplots.AxesSubplot at 0x7f291a4bc1d0>"
      ]
     },
     "execution_count": 9,
     "metadata": {},
     "output_type": "execute_result"
    },
    {
     "data": {
      "image/png": "[encoded data removed]",
      "text/plain": [
       "<Figure size 432x288 with 1 Axes>"
      ]
     },
     "metadata": {
      "needs_background": "light"
     },
     "output_type": "display_data"
    }
   ],
   "source": [
    "paths[paths[\"group\"]==\"hc\"].groupby(by=[\"sess_id\"])['bin_class'].value_counts().plot.bar()"
   ]
  },
  {
   "cell_type": "code",
   "execution_count": 10,
   "metadata": {},
   "outputs": [],
   "source": [
    "def get_counts(val_pct):\n",
    "    hc_subs = [1, 2, 3, 4, 5, 7, 9, 10, 11, 12, 16, 19, 20, 21, 22, 23, 24, 25, 28, 29, 30, 31, 33, 34]\n",
    "    tbi_subs = [1, 2, 3, 4, 5, 6, 8, 9, 10, 11, 12, 13, 14, 15, 16, 17, 18, 19, 20, 22, 23, 24, 25, 27, 29, 30, 34, 35, 36]\n",
    "    \n",
    "    val_hc_count = int(len(hc_subs)*val_pct)\n",
    "    val_tbi_count = int(len(tbi_subs)*val_pct)\n",
    "    hc_val = random.sample(hc_subs, val_hc_count)\n",
    "    tbi_val = random.sample(tbi_subs, val_tbi_count)\n",
    "    hc_train = list(set(hc_subs) - set(hc_val))\n",
    "    tbi_train = list(set(tbi_subs) - set(tbi_val))\n",
    "    \n",
    "    return hc_train, hc_val, tbi_train, tbi_val\n",
    "\n",
    "def split_train_val(val_pct=0.2):\n",
    "    hc_train, hc_val, tbi_train, tbi_val = get_counts(val_pct)\n",
    "    train_subs, val_subs = [], []\n",
    "    for tr in hc_train:\n",
    "        train_subs.append(f'sub-hc{tr:03}')\n",
    "    for tr in tbi_train:\n",
    "        train_subs.append(f'sub-tbi{tr:03}')\n",
    "    for tst in hc_val:\n",
    "        val_subs.append(f'sub-hc{tst:03}')\n",
    "    for tst in tbi_val:\n",
    "        val_subs.append(f'sub-tbi{tst:03}')\n",
    "\n",
    "    return train_subs, val_subs"
   ]
  },
  {
   "cell_type": "code",
   "execution_count": null,
   "metadata": {},
   "outputs": [],
   "source": []
  },
  {
   "cell_type": "code",
   "execution_count": 11,
   "metadata": {},
   "outputs": [],
   "source": [
    "def get_score(sub_path, img_name):\n",
    "    sess_id = img_name.split(\".scale\")[0][-1]\n",
    "    n_back = img_name[0]\n",
    "    file_path = os.path.join(sub_path, f\"{n_back}back_VAS-f.1D\")\n",
    "    with open(file_path, \"r\") as label_file:\n",
    "        scores = label_file.readlines()\n",
    "        try:\n",
    "            return scores[int(sess_id)]\n",
    "        except IndexError:\n",
    "            return None"
   ]
  },
  {
   "cell_type": "code",
   "execution_count": 12,
   "metadata": {},
   "outputs": [],
   "source": [
    "def prep_path_labels(subs):\n",
    "    img_paths, labels = [], []\n",
    "    for sub in subs:\n",
    "        sub_path = os.path.join(data_dir, sub)\n",
    "        for img_name in os.listdir(os.path.join(sub_path, f\"{sub}.preproc\")):\n",
    "            if \"nii.gz\" not in img_name:\n",
    "                continue\n",
    "            img_path = os.path.join(sub_path, f\"{sub}.preproc\", img_name)\n",
    "            label = get_score(sub_path, img_name)\n",
    "            if label is None:\n",
    "                continue\n",
    "\n",
    "            img_paths.append(img_path)\n",
    "            labels.append(int(label))\n",
    "            \n",
    "    return img_paths, labels"
   ]
  },
  {
   "cell_type": "code",
   "execution_count": 13,
   "metadata": {},
   "outputs": [],
   "source": [
    "train_subs, val_subs = split_train_val(val_pct=0.2)"
   ]
  },
  {
   "cell_type": "code",
   "execution_count": 14,
   "metadata": {},
   "outputs": [
    {
     "data": {
      "text/plain": [
       "['sub-hc004',\n",
       " 'sub-hc022',\n",
       " 'sub-hc025',\n",
       " 'sub-hc019',\n",
       " 'sub-tbi027',\n",
       " 'sub-tbi035',\n",
       " 'sub-tbi011',\n",
       " 'sub-tbi019',\n",
       " 'sub-tbi029']"
      ]
     },
     "execution_count": 14,
     "metadata": {},
     "output_type": "execute_result"
    }
   ],
   "source": [
    "val_subs"
   ]
  },
  {
   "cell_type": "code",
   "execution_count": 15,
   "metadata": {},
   "outputs": [],
   "source": [
    "val_img_paths, val_labels = prep_path_labels(val_subs)"
   ]
  },
  {
   "cell_type": "code",
   "execution_count": 16,
   "metadata": {},
   "outputs": [
    {
     "data": {
      "text/plain": [
       "['/data/fmri/data/sub-hc004/sub-hc004.preproc/2back.r02.scale.nii.gz',\n",
       " '/data/fmri/data/sub-hc004/sub-hc004.preproc/2back.r03.scale.nii.gz',\n",
       " '/data/fmri/data/sub-hc004/sub-hc004.preproc/2back.r01.scale.nii.gz',\n",
       " '/data/fmri/data/sub-hc004/sub-hc004.preproc/2back.r04.scale.nii.gz',\n",
       " '/data/fmri/data/sub-hc004/sub-hc004.preproc/0back.r01.scale.nii.gz',\n",
       " '/data/fmri/data/sub-hc004/sub-hc004.preproc/0back.r03.scale.nii.gz',\n",
       " '/data/fmri/data/sub-hc004/sub-hc004.preproc/0back.r02.scale.nii.gz',\n",
       " '/data/fmri/data/sub-hc004/sub-hc004.preproc/0back.r04.scale.nii.gz',\n",
       " '/data/fmri/data/sub-hc022/sub-hc022.preproc/2back.r02.scale.nii.gz',\n",
       " '/data/fmri/data/sub-hc022/sub-hc022.preproc/2back.r03.scale.nii.gz']"
      ]
     },
     "execution_count": 16,
     "metadata": {},
     "output_type": "execute_result"
    }
   ],
   "source": [
    "val_img_paths[:10]"
   ]
  },
  {
   "cell_type": "code",
   "execution_count": 22,
   "metadata": {},
   "outputs": [
    {
     "data": {
      "text/plain": [
       "72"
      ]
     },
     "execution_count": 22,
     "metadata": {},
     "output_type": "execute_result"
    }
   ],
   "source": [
    "len(val_img_paths)"
   ]
  },
  {
   "cell_type": "code",
   "execution_count": 17,
   "metadata": {},
   "outputs": [
    {
     "data": {
      "text/plain": [
       "[0, 0, 0, 0, 0, 0, 0, 0, 5, 5]"
      ]
     },
     "execution_count": 17,
     "metadata": {},
     "output_type": "execute_result"
    }
   ],
   "source": [
    "val_labels[:10]"
   ]
  },
  {
   "cell_type": "code",
   "execution_count": 18,
   "metadata": {},
   "outputs": [],
   "source": [
    "import pandas as pd"
   ]
  },
  {
   "cell_type": "code",
   "execution_count": 19,
   "metadata": {},
   "outputs": [],
   "source": [
    "train_img_paths, train_labels = prep_path_labels(train_subs)\n",
    "val_img_paths, val_labels = prep_path_labels(val_subs)"
   ]
  },
  {
   "cell_type": "code",
   "execution_count": 20,
   "metadata": {},
   "outputs": [],
   "source": [
    "train_data = pd.DataFrame(list(zip(train_img_paths, train_labels)))\n",
    "val_data = pd.DataFrame(list(zip(val_img_paths, val_labels)))"
   ]
  },
  {
   "cell_type": "code",
   "execution_count": 21,
   "metadata": {},
   "outputs": [
    {
     "data": {
      "text/html": [
       "<div>\n",
       "<style scoped>\n",
       "    .dataframe tbody tr th:only-of-type {\n",
       "        vertical-align: middle;\n",
       "    }\n",
       "\n",
       "    .dataframe tbody tr th {\n",
       "        vertical-align: top;\n",
       "    }\n",
       "\n",
       "    .dataframe thead th {\n",
       "        text-align: right;\n",
       "    }\n",
       "</style>\n",
       "<table border=\"1\" class=\"dataframe\">\n",
       "  <thead>\n",
       "    <tr style=\"text-align: right;\">\n",
       "      <th></th>\n",
       "      <th>0</th>\n",
       "      <th>1</th>\n",
       "    </tr>\n",
       "  </thead>\n",
       "  <tbody>\n",
       "    <tr>\n",
       "      <th>0</th>\n",
       "      <td>/data/fmri/data/sub-hc001/sub-hc001.preproc/0b...</td>\n",
       "      <td>30</td>\n",
       "    </tr>\n",
       "    <tr>\n",
       "      <th>1</th>\n",
       "      <td>/data/fmri/data/sub-hc001/sub-hc001.preproc/0b...</td>\n",
       "      <td>25</td>\n",
       "    </tr>\n",
       "    <tr>\n",
       "      <th>2</th>\n",
       "      <td>/data/fmri/data/sub-hc001/sub-hc001.preproc/0b...</td>\n",
       "      <td>30</td>\n",
       "    </tr>\n",
       "    <tr>\n",
       "      <th>3</th>\n",
       "      <td>/data/fmri/data/sub-hc001/sub-hc001.preproc/0b...</td>\n",
       "      <td>25</td>\n",
       "    </tr>\n",
       "    <tr>\n",
       "      <th>4</th>\n",
       "      <td>/data/fmri/data/sub-hc001/sub-hc001.preproc/2b...</td>\n",
       "      <td>20</td>\n",
       "    </tr>\n",
       "    <tr>\n",
       "      <th>...</th>\n",
       "      <td>...</td>\n",
       "      <td>...</td>\n",
       "    </tr>\n",
       "    <tr>\n",
       "      <th>337</th>\n",
       "      <td>/data/fmri/data/sub-tbi036/sub-tbi036.preproc/...</td>\n",
       "      <td>0</td>\n",
       "    </tr>\n",
       "    <tr>\n",
       "      <th>338</th>\n",
       "      <td>/data/fmri/data/sub-tbi036/sub-tbi036.preproc/...</td>\n",
       "      <td>0</td>\n",
       "    </tr>\n",
       "    <tr>\n",
       "      <th>339</th>\n",
       "      <td>/data/fmri/data/sub-tbi036/sub-tbi036.preproc/...</td>\n",
       "      <td>0</td>\n",
       "    </tr>\n",
       "    <tr>\n",
       "      <th>340</th>\n",
       "      <td>/data/fmri/data/sub-tbi036/sub-tbi036.preproc/...</td>\n",
       "      <td>0</td>\n",
       "    </tr>\n",
       "    <tr>\n",
       "      <th>341</th>\n",
       "      <td>/data/fmri/data/sub-tbi036/sub-tbi036.preproc/...</td>\n",
       "      <td>0</td>\n",
       "    </tr>\n",
       "  </tbody>\n",
       "</table>\n",
       "<p>342 rows × 2 columns</p>\n",
       "</div>"
      ],
      "text/plain": [
       "                                                     0   1\n",
       "0    /data/fmri/data/sub-hc001/sub-hc001.preproc/0b...  30\n",
       "1    /data/fmri/data/sub-hc001/sub-hc001.preproc/0b...  25\n",
       "2    /data/fmri/data/sub-hc001/sub-hc001.preproc/0b...  30\n",
       "3    /data/fmri/data/sub-hc001/sub-hc001.preproc/0b...  25\n",
       "4    /data/fmri/data/sub-hc001/sub-hc001.preproc/2b...  20\n",
       "..                                                 ...  ..\n",
       "337  /data/fmri/data/sub-tbi036/sub-tbi036.preproc/...   0\n",
       "338  /data/fmri/data/sub-tbi036/sub-tbi036.preproc/...   0\n",
       "339  /data/fmri/data/sub-tbi036/sub-tbi036.preproc/...   0\n",
       "340  /data/fmri/data/sub-tbi036/sub-tbi036.preproc/...   0\n",
       "341  /data/fmri/data/sub-tbi036/sub-tbi036.preproc/...   0\n",
       "\n",
       "[342 rows x 2 columns]"
      ]
     },
     "execution_count": 21,
     "metadata": {},
     "output_type": "execute_result"
    }
   ],
   "source": [
    "train_data"
   ]
  },
  {
   "cell_type": "code",
   "execution_count": 30,
   "metadata": {},
   "outputs": [
    {
     "data": {
      "text/html": [
       "<div>\n",
       "<style scoped>\n",
       "    .dataframe tbody tr th:only-of-type {\n",
       "        vertical-align: middle;\n",
       "    }\n",
       "\n",
       "    .dataframe tbody tr th {\n",
       "        vertical-align: top;\n",
       "    }\n",
       "\n",
       "    .dataframe thead th {\n",
       "        text-align: right;\n",
       "    }\n",
       "</style>\n",
       "<table border=\"1\" class=\"dataframe\">\n",
       "  <thead>\n",
       "    <tr style=\"text-align: right;\">\n",
       "      <th></th>\n",
       "      <th>0</th>\n",
       "      <th>1</th>\n",
       "    </tr>\n",
       "  </thead>\n",
       "  <tbody>\n",
       "    <tr>\n",
       "      <th>0</th>\n",
       "      <td>/data/fmri/data/sub-hc022/sub-hc022.preproc/2b...</td>\n",
       "      <td>5</td>\n",
       "    </tr>\n",
       "    <tr>\n",
       "      <th>1</th>\n",
       "      <td>/data/fmri/data/sub-hc022/sub-hc022.preproc/2b...</td>\n",
       "      <td>5</td>\n",
       "    </tr>\n",
       "    <tr>\n",
       "      <th>2</th>\n",
       "      <td>/data/fmri/data/sub-hc022/sub-hc022.preproc/2b...</td>\n",
       "      <td>5</td>\n",
       "    </tr>\n",
       "    <tr>\n",
       "      <th>3</th>\n",
       "      <td>/data/fmri/data/sub-hc022/sub-hc022.preproc/2b...</td>\n",
       "      <td>5</td>\n",
       "    </tr>\n",
       "    <tr>\n",
       "      <th>4</th>\n",
       "      <td>/data/fmri/data/sub-hc022/sub-hc022.preproc/0b...</td>\n",
       "      <td>5</td>\n",
       "    </tr>\n",
       "    <tr>\n",
       "      <th>5</th>\n",
       "      <td>/data/fmri/data/sub-hc022/sub-hc022.preproc/0b...</td>\n",
       "      <td>5</td>\n",
       "    </tr>\n",
       "    <tr>\n",
       "      <th>6</th>\n",
       "      <td>/data/fmri/data/sub-hc022/sub-hc022.preproc/0b...</td>\n",
       "      <td>5</td>\n",
       "    </tr>\n",
       "    <tr>\n",
       "      <th>7</th>\n",
       "      <td>/data/fmri/data/sub-hc022/sub-hc022.preproc/0b...</td>\n",
       "      <td>5</td>\n",
       "    </tr>\n",
       "    <tr>\n",
       "      <th>8</th>\n",
       "      <td>/data/fmri/data/sub-hc002/sub-hc002.preproc/0b...</td>\n",
       "      <td>30</td>\n",
       "    </tr>\n",
       "    <tr>\n",
       "      <th>9</th>\n",
       "      <td>/data/fmri/data/sub-hc002/sub-hc002.preproc/0b...</td>\n",
       "      <td>30</td>\n",
       "    </tr>\n",
       "    <tr>\n",
       "      <th>10</th>\n",
       "      <td>/data/fmri/data/sub-hc002/sub-hc002.preproc/0b...</td>\n",
       "      <td>40</td>\n",
       "    </tr>\n",
       "    <tr>\n",
       "      <th>11</th>\n",
       "      <td>/data/fmri/data/sub-hc002/sub-hc002.preproc/0b...</td>\n",
       "      <td>30</td>\n",
       "    </tr>\n",
       "    <tr>\n",
       "      <th>12</th>\n",
       "      <td>/data/fmri/data/sub-hc002/sub-hc002.preproc/2b...</td>\n",
       "      <td>30</td>\n",
       "    </tr>\n",
       "    <tr>\n",
       "      <th>13</th>\n",
       "      <td>/data/fmri/data/sub-hc002/sub-hc002.preproc/2b...</td>\n",
       "      <td>20</td>\n",
       "    </tr>\n",
       "    <tr>\n",
       "      <th>14</th>\n",
       "      <td>/data/fmri/data/sub-hc002/sub-hc002.preproc/2b...</td>\n",
       "      <td>30</td>\n",
       "    </tr>\n",
       "    <tr>\n",
       "      <th>15</th>\n",
       "      <td>/data/fmri/data/sub-hc002/sub-hc002.preproc/2b...</td>\n",
       "      <td>10</td>\n",
       "    </tr>\n",
       "    <tr>\n",
       "      <th>16</th>\n",
       "      <td>/data/fmri/data/sub-hc003/sub-hc003.preproc/2b...</td>\n",
       "      <td>25</td>\n",
       "    </tr>\n",
       "    <tr>\n",
       "      <th>17</th>\n",
       "      <td>/data/fmri/data/sub-hc003/sub-hc003.preproc/2b...</td>\n",
       "      <td>25</td>\n",
       "    </tr>\n",
       "    <tr>\n",
       "      <th>18</th>\n",
       "      <td>/data/fmri/data/sub-hc003/sub-hc003.preproc/2b...</td>\n",
       "      <td>20</td>\n",
       "    </tr>\n",
       "    <tr>\n",
       "      <th>19</th>\n",
       "      <td>/data/fmri/data/sub-hc003/sub-hc003.preproc/2b...</td>\n",
       "      <td>30</td>\n",
       "    </tr>\n",
       "    <tr>\n",
       "      <th>20</th>\n",
       "      <td>/data/fmri/data/sub-hc003/sub-hc003.preproc/0b...</td>\n",
       "      <td>5</td>\n",
       "    </tr>\n",
       "    <tr>\n",
       "      <th>21</th>\n",
       "      <td>/data/fmri/data/sub-hc003/sub-hc003.preproc/0b...</td>\n",
       "      <td>20</td>\n",
       "    </tr>\n",
       "    <tr>\n",
       "      <th>22</th>\n",
       "      <td>/data/fmri/data/sub-hc003/sub-hc003.preproc/0b...</td>\n",
       "      <td>15</td>\n",
       "    </tr>\n",
       "    <tr>\n",
       "      <th>23</th>\n",
       "      <td>/data/fmri/data/sub-hc003/sub-hc003.preproc/0b...</td>\n",
       "      <td>20</td>\n",
       "    </tr>\n",
       "    <tr>\n",
       "      <th>24</th>\n",
       "      <td>/data/fmri/data/sub-hc033/sub-hc033.preproc/2b...</td>\n",
       "      <td>15</td>\n",
       "    </tr>\n",
       "    <tr>\n",
       "      <th>25</th>\n",
       "      <td>/data/fmri/data/sub-hc033/sub-hc033.preproc/2b...</td>\n",
       "      <td>20</td>\n",
       "    </tr>\n",
       "    <tr>\n",
       "      <th>26</th>\n",
       "      <td>/data/fmri/data/sub-hc033/sub-hc033.preproc/2b...</td>\n",
       "      <td>20</td>\n",
       "    </tr>\n",
       "    <tr>\n",
       "      <th>27</th>\n",
       "      <td>/data/fmri/data/sub-hc033/sub-hc033.preproc/2b...</td>\n",
       "      <td>15</td>\n",
       "    </tr>\n",
       "    <tr>\n",
       "      <th>28</th>\n",
       "      <td>/data/fmri/data/sub-hc033/sub-hc033.preproc/0b...</td>\n",
       "      <td>15</td>\n",
       "    </tr>\n",
       "    <tr>\n",
       "      <th>29</th>\n",
       "      <td>/data/fmri/data/sub-hc033/sub-hc033.preproc/0b...</td>\n",
       "      <td>15</td>\n",
       "    </tr>\n",
       "    <tr>\n",
       "      <th>...</th>\n",
       "      <td>...</td>\n",
       "      <td>...</td>\n",
       "    </tr>\n",
       "    <tr>\n",
       "      <th>42</th>\n",
       "      <td>/data/fmri/data/sub-tbi011/sub-tbi011.preproc/...</td>\n",
       "      <td>95</td>\n",
       "    </tr>\n",
       "    <tr>\n",
       "      <th>43</th>\n",
       "      <td>/data/fmri/data/sub-tbi011/sub-tbi011.preproc/...</td>\n",
       "      <td>90</td>\n",
       "    </tr>\n",
       "    <tr>\n",
       "      <th>44</th>\n",
       "      <td>/data/fmri/data/sub-tbi011/sub-tbi011.preproc/...</td>\n",
       "      <td>90</td>\n",
       "    </tr>\n",
       "    <tr>\n",
       "      <th>45</th>\n",
       "      <td>/data/fmri/data/sub-tbi011/sub-tbi011.preproc/...</td>\n",
       "      <td>65</td>\n",
       "    </tr>\n",
       "    <tr>\n",
       "      <th>46</th>\n",
       "      <td>/data/fmri/data/sub-tbi011/sub-tbi011.preproc/...</td>\n",
       "      <td>80</td>\n",
       "    </tr>\n",
       "    <tr>\n",
       "      <th>47</th>\n",
       "      <td>/data/fmri/data/sub-tbi011/sub-tbi011.preproc/...</td>\n",
       "      <td>90</td>\n",
       "    </tr>\n",
       "    <tr>\n",
       "      <th>48</th>\n",
       "      <td>/data/fmri/data/sub-tbi019/sub-tbi019.preproc/...</td>\n",
       "      <td>0</td>\n",
       "    </tr>\n",
       "    <tr>\n",
       "      <th>49</th>\n",
       "      <td>/data/fmri/data/sub-tbi019/sub-tbi019.preproc/...</td>\n",
       "      <td>0</td>\n",
       "    </tr>\n",
       "    <tr>\n",
       "      <th>50</th>\n",
       "      <td>/data/fmri/data/sub-tbi019/sub-tbi019.preproc/...</td>\n",
       "      <td>10</td>\n",
       "    </tr>\n",
       "    <tr>\n",
       "      <th>51</th>\n",
       "      <td>/data/fmri/data/sub-tbi019/sub-tbi019.preproc/...</td>\n",
       "      <td>0</td>\n",
       "    </tr>\n",
       "    <tr>\n",
       "      <th>52</th>\n",
       "      <td>/data/fmri/data/sub-tbi019/sub-tbi019.preproc/...</td>\n",
       "      <td>30</td>\n",
       "    </tr>\n",
       "    <tr>\n",
       "      <th>53</th>\n",
       "      <td>/data/fmri/data/sub-tbi019/sub-tbi019.preproc/...</td>\n",
       "      <td>0</td>\n",
       "    </tr>\n",
       "    <tr>\n",
       "      <th>54</th>\n",
       "      <td>/data/fmri/data/sub-tbi019/sub-tbi019.preproc/...</td>\n",
       "      <td>20</td>\n",
       "    </tr>\n",
       "    <tr>\n",
       "      <th>55</th>\n",
       "      <td>/data/fmri/data/sub-tbi019/sub-tbi019.preproc/...</td>\n",
       "      <td>25</td>\n",
       "    </tr>\n",
       "    <tr>\n",
       "      <th>56</th>\n",
       "      <td>/data/fmri/data/sub-tbi014/sub-tbi014.preproc/...</td>\n",
       "      <td>0</td>\n",
       "    </tr>\n",
       "    <tr>\n",
       "      <th>57</th>\n",
       "      <td>/data/fmri/data/sub-tbi014/sub-tbi014.preproc/...</td>\n",
       "      <td>0</td>\n",
       "    </tr>\n",
       "    <tr>\n",
       "      <th>58</th>\n",
       "      <td>/data/fmri/data/sub-tbi014/sub-tbi014.preproc/...</td>\n",
       "      <td>0</td>\n",
       "    </tr>\n",
       "    <tr>\n",
       "      <th>59</th>\n",
       "      <td>/data/fmri/data/sub-tbi014/sub-tbi014.preproc/...</td>\n",
       "      <td>50</td>\n",
       "    </tr>\n",
       "    <tr>\n",
       "      <th>60</th>\n",
       "      <td>/data/fmri/data/sub-tbi014/sub-tbi014.preproc/...</td>\n",
       "      <td>70</td>\n",
       "    </tr>\n",
       "    <tr>\n",
       "      <th>61</th>\n",
       "      <td>/data/fmri/data/sub-tbi014/sub-tbi014.preproc/...</td>\n",
       "      <td>0</td>\n",
       "    </tr>\n",
       "    <tr>\n",
       "      <th>62</th>\n",
       "      <td>/data/fmri/data/sub-tbi014/sub-tbi014.preproc/...</td>\n",
       "      <td>70</td>\n",
       "    </tr>\n",
       "    <tr>\n",
       "      <th>63</th>\n",
       "      <td>/data/fmri/data/sub-tbi014/sub-tbi014.preproc/...</td>\n",
       "      <td>0</td>\n",
       "    </tr>\n",
       "    <tr>\n",
       "      <th>64</th>\n",
       "      <td>/data/fmri/data/sub-tbi036/sub-tbi036.preproc/...</td>\n",
       "      <td>0</td>\n",
       "    </tr>\n",
       "    <tr>\n",
       "      <th>65</th>\n",
       "      <td>/data/fmri/data/sub-tbi036/sub-tbi036.preproc/...</td>\n",
       "      <td>0</td>\n",
       "    </tr>\n",
       "    <tr>\n",
       "      <th>66</th>\n",
       "      <td>/data/fmri/data/sub-tbi036/sub-tbi036.preproc/...</td>\n",
       "      <td>0</td>\n",
       "    </tr>\n",
       "    <tr>\n",
       "      <th>67</th>\n",
       "      <td>/data/fmri/data/sub-tbi036/sub-tbi036.preproc/...</td>\n",
       "      <td>0</td>\n",
       "    </tr>\n",
       "    <tr>\n",
       "      <th>68</th>\n",
       "      <td>/data/fmri/data/sub-tbi036/sub-tbi036.preproc/...</td>\n",
       "      <td>0</td>\n",
       "    </tr>\n",
       "    <tr>\n",
       "      <th>69</th>\n",
       "      <td>/data/fmri/data/sub-tbi036/sub-tbi036.preproc/...</td>\n",
       "      <td>0</td>\n",
       "    </tr>\n",
       "    <tr>\n",
       "      <th>70</th>\n",
       "      <td>/data/fmri/data/sub-tbi036/sub-tbi036.preproc/...</td>\n",
       "      <td>0</td>\n",
       "    </tr>\n",
       "    <tr>\n",
       "      <th>71</th>\n",
       "      <td>/data/fmri/data/sub-tbi036/sub-tbi036.preproc/...</td>\n",
       "      <td>0</td>\n",
       "    </tr>\n",
       "  </tbody>\n",
       "</table>\n",
       "<p>72 rows × 2 columns</p>\n",
       "</div>"
      ],
      "text/plain": [
       "                                                    0   1\n",
       "0   /data/fmri/data/sub-hc022/sub-hc022.preproc/2b...   5\n",
       "1   /data/fmri/data/sub-hc022/sub-hc022.preproc/2b...   5\n",
       "2   /data/fmri/data/sub-hc022/sub-hc022.preproc/2b...   5\n",
       "3   /data/fmri/data/sub-hc022/sub-hc022.preproc/2b...   5\n",
       "4   /data/fmri/data/sub-hc022/sub-hc022.preproc/0b...   5\n",
       "5   /data/fmri/data/sub-hc022/sub-hc022.preproc/0b...   5\n",
       "6   /data/fmri/data/sub-hc022/sub-hc022.preproc/0b...   5\n",
       "7   /data/fmri/data/sub-hc022/sub-hc022.preproc/0b...   5\n",
       "8   /data/fmri/data/sub-hc002/sub-hc002.preproc/0b...  30\n",
       "9   /data/fmri/data/sub-hc002/sub-hc002.preproc/0b...  30\n",
       "10  /data/fmri/data/sub-hc002/sub-hc002.preproc/0b...  40\n",
       "11  /data/fmri/data/sub-hc002/sub-hc002.preproc/0b...  30\n",
       "12  /data/fmri/data/sub-hc002/sub-hc002.preproc/2b...  30\n",
       "13  /data/fmri/data/sub-hc002/sub-hc002.preproc/2b...  20\n",
       "14  /data/fmri/data/sub-hc002/sub-hc002.preproc/2b...  30\n",
       "15  /data/fmri/data/sub-hc002/sub-hc002.preproc/2b...  10\n",
       "16  /data/fmri/data/sub-hc003/sub-hc003.preproc/2b...  25\n",
       "17  /data/fmri/data/sub-hc003/sub-hc003.preproc/2b...  25\n",
       "18  /data/fmri/data/sub-hc003/sub-hc003.preproc/2b...  20\n",
       "19  /data/fmri/data/sub-hc003/sub-hc003.preproc/2b...  30\n",
       "20  /data/fmri/data/sub-hc003/sub-hc003.preproc/0b...   5\n",
       "21  /data/fmri/data/sub-hc003/sub-hc003.preproc/0b...  20\n",
       "22  /data/fmri/data/sub-hc003/sub-hc003.preproc/0b...  15\n",
       "23  /data/fmri/data/sub-hc003/sub-hc003.preproc/0b...  20\n",
       "24  /data/fmri/data/sub-hc033/sub-hc033.preproc/2b...  15\n",
       "25  /data/fmri/data/sub-hc033/sub-hc033.preproc/2b...  20\n",
       "26  /data/fmri/data/sub-hc033/sub-hc033.preproc/2b...  20\n",
       "27  /data/fmri/data/sub-hc033/sub-hc033.preproc/2b...  15\n",
       "28  /data/fmri/data/sub-hc033/sub-hc033.preproc/0b...  15\n",
       "29  /data/fmri/data/sub-hc033/sub-hc033.preproc/0b...  15\n",
       "..                                                ...  ..\n",
       "42  /data/fmri/data/sub-tbi011/sub-tbi011.preproc/...  95\n",
       "43  /data/fmri/data/sub-tbi011/sub-tbi011.preproc/...  90\n",
       "44  /data/fmri/data/sub-tbi011/sub-tbi011.preproc/...  90\n",
       "45  /data/fmri/data/sub-tbi011/sub-tbi011.preproc/...  65\n",
       "46  /data/fmri/data/sub-tbi011/sub-tbi011.preproc/...  80\n",
       "47  /data/fmri/data/sub-tbi011/sub-tbi011.preproc/...  90\n",
       "48  /data/fmri/data/sub-tbi019/sub-tbi019.preproc/...   0\n",
       "49  /data/fmri/data/sub-tbi019/sub-tbi019.preproc/...   0\n",
       "50  /data/fmri/data/sub-tbi019/sub-tbi019.preproc/...  10\n",
       "51  /data/fmri/data/sub-tbi019/sub-tbi019.preproc/...   0\n",
       "52  /data/fmri/data/sub-tbi019/sub-tbi019.preproc/...  30\n",
       "53  /data/fmri/data/sub-tbi019/sub-tbi019.preproc/...   0\n",
       "54  /data/fmri/data/sub-tbi019/sub-tbi019.preproc/...  20\n",
       "55  /data/fmri/data/sub-tbi019/sub-tbi019.preproc/...  25\n",
       "56  /data/fmri/data/sub-tbi014/sub-tbi014.preproc/...   0\n",
       "57  /data/fmri/data/sub-tbi014/sub-tbi014.preproc/...   0\n",
       "58  /data/fmri/data/sub-tbi014/sub-tbi014.preproc/...   0\n",
       "59  /data/fmri/data/sub-tbi014/sub-tbi014.preproc/...  50\n",
       "60  /data/fmri/data/sub-tbi014/sub-tbi014.preproc/...  70\n",
       "61  /data/fmri/data/sub-tbi014/sub-tbi014.preproc/...   0\n",
       "62  /data/fmri/data/sub-tbi014/sub-tbi014.preproc/...  70\n",
       "63  /data/fmri/data/sub-tbi014/sub-tbi014.preproc/...   0\n",
       "64  /data/fmri/data/sub-tbi036/sub-tbi036.preproc/...   0\n",
       "65  /data/fmri/data/sub-tbi036/sub-tbi036.preproc/...   0\n",
       "66  /data/fmri/data/sub-tbi036/sub-tbi036.preproc/...   0\n",
       "67  /data/fmri/data/sub-tbi036/sub-tbi036.preproc/...   0\n",
       "68  /data/fmri/data/sub-tbi036/sub-tbi036.preproc/...   0\n",
       "69  /data/fmri/data/sub-tbi036/sub-tbi036.preproc/...   0\n",
       "70  /data/fmri/data/sub-tbi036/sub-tbi036.preproc/...   0\n",
       "71  /data/fmri/data/sub-tbi036/sub-tbi036.preproc/...   0\n",
       "\n",
       "[72 rows x 2 columns]"
      ]
     },
     "execution_count": 30,
     "metadata": {},
     "output_type": "execute_result"
    }
   ],
   "source": [
    "val_data"
   ]
  },
  {
   "cell_type": "markdown",
   "metadata": {},
   "source": [
    "## Confusion Matrix"
   ]
  },
  {
   "cell_type": "code",
   "execution_count": 59,
   "metadata": {},
   "outputs": [],
   "source": [
    "from sklearn.metrics import confusion_matrix, ConfusionMatrixDisplay\n",
    "import matplotlib.pyplot as plt"
   ]
  },
  {
   "cell_type": "code",
   "execution_count": 24,
   "metadata": {},
   "outputs": [
    {
     "data": {
      "text/plain": [
       "array([[2, 0, 0],\n",
       "       [0, 0, 1],\n",
       "       [1, 0, 2]])"
      ]
     },
     "execution_count": 24,
     "metadata": {},
     "output_type": "execute_result"
    }
   ],
   "source": [
    "y_true = [2, 0, 2, 2, 0, 1]\n",
    "y_pred = [0, 0, 2, 2, 0, 2]\n",
    "confusion_matrix(y_true, y_pred)"
   ]
  },
  {
   "cell_type": "code",
   "execution_count": 26,
   "metadata": {},
   "outputs": [
    {
     "data": {
      "text/plain": [
       "112"
      ]
     },
     "execution_count": 26,
     "metadata": {},
     "output_type": "execute_result"
    }
   ],
   "source": [
    "actual = [0]*32 + [1]*20 + [2]*22 + [3]*10 + [4]*9 + [5]*7 + [6]*12\n",
    "len(actual)"
   ]
  },
  {
   "cell_type": "code",
   "execution_count": 39,
   "metadata": {},
   "outputs": [
    {
     "data": {
      "text/plain": [
       "112"
      ]
     },
     "execution_count": 39,
     "metadata": {},
     "output_type": "execute_result"
    }
   ],
   "source": [
    "predicted = [2]*2 + [1]*15 + [0]*10 + [1]*17 + [3]*3 + [2]*19 + [3]*12 + [4]*11 + [5]*10 + [6]*11 + [5]*2\n",
    "len(predicted)"
   ]
  },
  {
   "cell_type": "code",
   "execution_count": 40,
   "metadata": {},
   "outputs": [
    {
     "data": {
      "text/plain": [
       "array([[10, 20,  2,  0,  0,  0,  0],\n",
       "       [ 0, 12,  5,  3,  0,  0,  0],\n",
       "       [ 0,  0, 14,  8,  0,  0,  0],\n",
       "       [ 0,  0,  0,  4,  6,  0,  0],\n",
       "       [ 0,  0,  0,  0,  5,  4,  0],\n",
       "       [ 0,  0,  0,  0,  0,  6,  1],\n",
       "       [ 0,  0,  0,  0,  0,  2, 10]])"
      ]
     },
     "execution_count": 40,
     "metadata": {},
     "output_type": "execute_result"
    }
   ],
   "source": [
    "confusion_matrix(actual, predicted)"
   ]
  },
  {
   "cell_type": "code",
   "execution_count": 50,
   "metadata": {},
   "outputs": [
    {
     "data": {
      "text/plain": [
       "array([[89,  3,  4,  1,  0,  0],\n",
       "       [ 9, 28,  2,  0,  0,  0],\n",
       "       [ 7,  1, 31,  0,  0,  0],\n",
       "       [ 5,  0,  2,  4,  0,  0],\n",
       "       [ 1,  0,  0,  0,  4,  0],\n",
       "       [ 0,  0,  0,  0,  0,  0]])"
      ]
     },
     "execution_count": 50,
     "metadata": {},
     "output_type": "execute_result"
    }
   ],
   "source": [
    "import numpy as np\n",
    "hc_cm = np.array([\n",
    "    [89, 3, 4, 1, 0, 0],\n",
    "    [9, 28, 2, 0, 0, 0],\n",
    "    [7, 1, 31, 0, 0, 0],\n",
    "    [5, 0, 2, 4, 0, 0],\n",
    "    [1, 0, 0, 0, 4, 0],\n",
    "    [0, 0, 0, 0, 0, 0]\n",
    "])\n",
    "hc_cm"
   ]
  },
  {
   "cell_type": "code",
   "execution_count": 54,
   "metadata": {},
   "outputs": [
    {
     "data": {
      "text/plain": [
       "0.8167539267015707"
      ]
     },
     "execution_count": 54,
     "metadata": {},
     "output_type": "execute_result"
    }
   ],
   "source": [
    "(hc_cm.diagonal()/hc_cm.sum()).sum()"
   ]
  },
  {
   "cell_type": "code",
   "execution_count": 62,
   "metadata": {},
   "outputs": [
    {
     "data": {
      "image/png": "[encoded data removed]",
      "text/plain": [
       "<Figure size 432x288 with 2 Axes>"
      ]
     },
     "metadata": {
      "needs_background": "light"
     },
     "output_type": "display_data"
    }
   ],
   "source": [
    "disp = ConfusionMatrixDisplay(confusion_matrix=hc_cm, display_labels=list(range(6)))\n",
    "disp.plot()\n",
    "plt.savefig('hc_confusion_matrix.png')\n",
    "plt.show()"
   ]
  },
  {
   "cell_type": "code",
   "execution_count": 64,
   "metadata": {},
   "outputs": [
    {
     "data": {
      "text/plain": [
       "array([[78,  0,  1,  2,  1,  5],\n",
       "       [ 0, 12,  0,  1,  0,  3],\n",
       "       [ 0,  0, 23,  1,  0,  0],\n",
       "       [ 2,  0,  0, 26,  0,  0],\n",
       "       [ 0,  0,  0,  1, 20,  1],\n",
       "       [ 0,  0,  0,  0,  1, 45]])"
      ]
     },
     "execution_count": 64,
     "metadata": {},
     "output_type": "execute_result"
    }
   ],
   "source": [
    "tbi_cm = np.array([\n",
    "    [78, 0, 1, 2, 1, 5],\n",
    "    [0, 12, 0, 1, 0, 3],\n",
    "    [0, 0, 23, 1, 0, 0],\n",
    "    [2, 0, 0, 26, 0, 0],\n",
    "    [0, 0, 0, 1, 20, 1],\n",
    "    [0, 0, 0, 0, 1, 45]\n",
    "])\n",
    "tbi_cm"
   ]
  },
  {
   "cell_type": "code",
   "execution_count": 65,
   "metadata": {},
   "outputs": [
    {
     "data": {
      "text/plain": [
       "0.914798206278027"
      ]
     },
     "execution_count": 65,
     "metadata": {},
     "output_type": "execute_result"
    }
   ],
   "source": [
    "(tbi_cm.diagonal()/tbi_cm.sum()).sum()"
   ]
  },
  {
   "cell_type": "code",
   "execution_count": 66,
   "metadata": {},
   "outputs": [
    {
     "data": {
      "image/png": "[encoded data removed]",
      "text/plain": [
       "<Figure size 432x288 with 2 Axes>"
      ]
     },
     "metadata": {
      "needs_background": "light"
     },
     "output_type": "display_data"
    }
   ],
   "source": [
    "disp = ConfusionMatrixDisplay(confusion_matrix=tbi_cm, display_labels=list(range(6)))\n",
    "disp.plot()\n",
    "plt.savefig('tbi_confusion_matrix.png')\n",
    "plt.show()"
   ]
  }
 ],
 "metadata": {
  "kernelspec": {
   "display_name": "fmri",
   "language": "python",
   "name": "fmri"
  },
  "language_info": {
   "codemirror_mode": {
    "name": "ipython",
    "version": 3
   },
   "file_extension": ".py",
   "mimetype": "text/x-python",
   "name": "python",
   "nbconvert_exporter": "python",
   "pygments_lexer": "ipython3",
   "version": "3.6.9"
  }
 },
 "nbformat": 4,
 "nbformat_minor": 4
}
