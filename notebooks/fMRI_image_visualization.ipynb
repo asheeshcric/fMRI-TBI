{
 "cells": [
  {
   "cell_type": "code",
   "execution_count": 1,
   "metadata": {},
   "outputs": [],
   "source": [
    "data_path = '/data/fmri/data/'"
   ]
  },
  {
   "cell_type": "code",
   "execution_count": 2,
   "metadata": {},
   "outputs": [],
   "source": [
    "from PIL import Image\n",
    "from easydict import EasyDict as edict\n",
    "from nilearn import image, plotting"
   ]
  },
  {
   "cell_type": "code",
   "execution_count": 3,
   "metadata": {},
   "outputs": [],
   "source": [
    "import matplotlib.pyplot as plt"
   ]
  },
  {
   "cell_type": "code",
   "execution_count": null,
   "metadata": {},
   "outputs": [],
   "source": [
    "import numpy as np\n",
    "import torch\n"
   ]
  },
  {
   "cell_type": "code",
   "execution_count": null,
   "metadata": {},
   "outputs": [],
   "source": [
    "def readImage(params, sub):\n",
    "    sub = 'sub-hc{:03d}'.format(sub)\n",
    "    device = torch.device(\"cuda:0\" if (torch.cuda.is_available() and params.nGPU > 0) else \"cpu\")\n",
    "    nData = params.nBacks * params.nTasks\n",
    "    fAll = torch.tensor(np.zeros((nData, params.nT, params.nX, params.nY, params.nZ)), dtype = torch.float, device = device)\n",
    "#     image = transforms.Normalize((0, 0, 0), (1, 1, 1))(image)\n",
    "\n",
    "    for back in range(params.nBacks):\n",
    "        for task in range(params.nTasks):\n",
    "            path = params.path + 'data/' + sub + '/pb04.' + sub + '.r0' + str(task+1) +'_'+ str(2*back) +'back.scale+tlrc.nii'\n",
    "            #idx = (sub * params.nBacks * params.nTasks) + (back * params.nTasks) + task\n",
    "            idx =(back * params.nTasks) + task\n",
    "            f = image.load_img(path)\n",
    "            f = f.get_data()[:params.nX, :params.nY, :params.nZ, :params.nT]\n",
    "            f = torch.tensor(f, dtype = torch.float, device = device)\n",
    "            f = (f - f.mean()) / f.std() \n",
    "            fAll[idx,:,:,:,:] = f.permute(3, 0, 1, 2)\n",
    "    return fAll"
   ]
  },
  {
   "cell_type": "code",
   "execution_count": null,
   "metadata": {},
   "outputs": [],
   "source": [
    "params = edict({\n",
    "    'path': data_path,\n",
    "    'nGPU': 2,\n",
    "    'nEpochs': 10,\n",
    "    'nBacks': 2,\n",
    "    'nTasks': 4,\n",
    "    'nClass': 4,\n",
    "    'nT': 135,\n",
    "    'nX': 54,\n",
    "    'nY': 64,\n",
    "    'nZ': 50,\n",
    "    'nDivT': 9,\n",
    "    'ndf': 64,\n",
    "    'lr': 0.001,\n",
    "    'beta1': 0.5,\n",
    "    'beta2': 0.999,\n",
    "})"
   ]
  },
  {
   "cell_type": "code",
   "execution_count": null,
   "metadata": {
    "scrolled": true
   },
   "outputs": [],
   "source": [
    "x = readImage(params, 2)"
   ]
  },
  {
   "cell_type": "code",
   "execution_count": null,
   "metadata": {
    "scrolled": true
   },
   "outputs": [],
   "source": [
    "x.shape"
   ]
  },
  {
   "cell_type": "markdown",
   "metadata": {},
   "source": [
    "## Visualizing Neural Images"
   ]
  },
  {
   "cell_type": "code",
   "execution_count": null,
   "metadata": {},
   "outputs": [],
   "source": [
    "import os"
   ]
  },
  {
   "cell_type": "code",
   "execution_count": null,
   "metadata": {},
   "outputs": [],
   "source": [
    "path = '../data/sub-hc002'\n",
    "files = [os.path.join(path, f) for f in os.listdir(path) if f.endswith('.nii')]"
   ]
  },
  {
   "cell_type": "code",
   "execution_count": null,
   "metadata": {},
   "outputs": [],
   "source": [
    "import nibabel as nib\n",
    "img = nib.load(files[0])"
   ]
  },
  {
   "cell_type": "code",
   "execution_count": null,
   "metadata": {},
   "outputs": [],
   "source": [
    "img.shape"
   ]
  },
  {
   "cell_type": "code",
   "execution_count": null,
   "metadata": {},
   "outputs": [],
   "source": [
    "print(image.load_img(files[0]).shape)"
   ]
  },
  {
   "cell_type": "code",
   "execution_count": null,
   "metadata": {},
   "outputs": [],
   "source": [
    "first_image = image.index_img(files[0], 0)"
   ]
  },
  {
   "cell_type": "code",
   "execution_count": null,
   "metadata": {},
   "outputs": [],
   "source": [
    "first_image.shape"
   ]
  },
  {
   "cell_type": "code",
   "execution_count": null,
   "metadata": {},
   "outputs": [],
   "source": [
    "plotting.plot_anat(first_image)"
   ]
  },
  {
   "cell_type": "code",
   "execution_count": null,
   "metadata": {},
   "outputs": [],
   "source": [
    "plotting.plot_epi(first_image)"
   ]
  },
  {
   "cell_type": "code",
   "execution_count": null,
   "metadata": {
    "scrolled": true
   },
   "outputs": [],
   "source": [
    "plotting.plot_stat_map(first_image)"
   ]
  },
  {
   "cell_type": "markdown",
   "metadata": {},
   "source": [
    "#### Looping over 4D files"
   ]
  },
  {
   "cell_type": "code",
   "execution_count": null,
   "metadata": {},
   "outputs": [],
   "source": [
    "for img in image.iter_img(files[0]):\n",
    "    plotting.plot_stat_map(img, threshold=3, display_mode='z', cut_coords=1, colorbar=False)"
   ]
  },
  {
   "cell_type": "code",
   "execution_count": null,
   "metadata": {},
   "outputs": [],
   "source": []
  }
 ],
 "metadata": {
  "kernelspec": {
   "display_name": "fmri",
   "language": "python",
   "name": "fmri"
  },
  "language_info": {
   "codemirror_mode": {
    "name": "ipython",
    "version": 3
   },
   "file_extension": ".py",
   "mimetype": "text/x-python",
   "name": "python",
   "nbconvert_exporter": "python",
   "pygments_lexer": "ipython3",
   "version": "3.6.9"
  }
 },
 "nbformat": 4,
 "nbformat_minor": 4
}
