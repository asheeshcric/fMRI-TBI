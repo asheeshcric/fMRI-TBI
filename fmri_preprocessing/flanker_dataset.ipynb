{
 "cells": [
  {
   "cell_type": "markdown",
   "id": "db93984a-602b-4985-a420-5f533637a829",
   "metadata": {},
   "source": [
    "## About Flanker Dataset"
   ]
  },
  {
   "cell_type": "markdown",
   "id": "0a9fb435-d964-4ec6-8b01-0e71dd96773b",
   "metadata": {},
   "source": [
    "### Anatomical (anat directory)\n",
    "-"
   ]
  },
  {
   "cell_type": "markdown",
   "id": "7eee1bfb-4bed-48f9-99ec-3978ea8f0657",
   "metadata": {},
   "source": [
    "### Functional (func directory)\n",
    "\n",
    "- Contains functional data - in this case, two runs of functional data - and corresponding \"events.tsv\" files.\n",
    "- \"events.tsv\" files contain **onset times** or timestamps for when the subject underwent either a **Congruent** or **Incongruent** trial\n",
    "    - This format is known as BIDS (Brain Imaging Data Structure), which makes it easy to organize and find your data"
   ]
  }
 ],
 "metadata": {
  "kernelspec": {
   "display_name": "fmri",
   "language": "python",
   "name": "fmri"
  },
  "language_info": {
   "codemirror_mode": {
    "name": "ipython",
    "version": 3
   },
   "file_extension": ".py",
   "mimetype": "text/x-python",
   "name": "python",
   "nbconvert_exporter": "python",
   "pygments_lexer": "ipython3",
   "version": "3.8.10"
  }
 },
 "nbformat": 4,
 "nbformat_minor": 5
}
