{
 "cells": [
  {
   "cell_type": "markdown",
   "id": "db93984a-602b-4985-a420-5f533637a829",
   "metadata": {},
   "source": [
    "## About Flanker Dataset"
   ]
  },
  {
   "cell_type": "markdown",
   "id": "0a9fb435-d964-4ec6-8b01-0e71dd96773b",
   "metadata": {},
   "source": [
    "### Anatomical (anat directory)\n",
    "\n",
    "\n",
    "#### -> Things to inspect in an anatomical image\n",
    "1. Lines that look like ripples in a pond - -Gibbs Ringing Artifacts\n",
    "    - May indicate an error in the reconstruction of the MR signal from the scanner\n",
    "    - May also be caused by the subject moving too much during the scan\n",
    "    - If present, can cause preprocessing steps like brain extraction and normalization to fail\n",
    "    \n",
    "2. Abnormality intensity differences within the grey or the white matter\n",
    "    - May indicate pathologies such as aneurysms or cavernomas, and should be reported to the radiologist right away"
   ]
  },
  {
   "cell_type": "markdown",
   "id": "7eee1bfb-4bed-48f9-99ec-3978ea8f0657",
   "metadata": {},
   "source": [
    "### Functional (func directory)\n",
    "\n",
    "- Contains functional data - in this case, two runs of functional data - and corresponding \"events.tsv\" files.\n",
    "- \"events.tsv\" files contain **onset times** or timestamps for when the subject underwent either a **Congruent** or **Incongruent** trial\n",
    "    - This format is known as BIDS (Brain Imaging Data Structure), which makes it easy to organize and find your data\n",
    "    \n",
    "#### Many of the quality checks for the functional images are the same as with the anatomical image\n",
    "1. Watch out for extremely bright or extremely dark spots in the grey or white matter, as well as for image distortions such as abnormal stretching and warping\n",
    "    - A common place to see a little bit of distortion is in the orbitofrontal part of the brain, just above the eyeballs\n",
    "    \n",
    "2. Make sure there isn't excessive motion.\n",
    "    - Functional images are often collected as a time-series\n",
    "    - So, note any sudden, jerky movements in any of the viewing panes\n",
    "    - During preprocessing, we quantify how much motion there was in order to decide whether to keep or to discard that subject's data"
   ]
  },
  {
   "cell_type": "markdown",
   "id": "fd0ee241-639f-4c37-818b-83f4dea1759d",
   "metadata": {},
   "source": [
    "## Preprocessing Steps\n",
    "\n",
    "#### 1. Brain Extraction\n",
    "- Removing the skull allows us to focus only on the brain tissues\n",
    "- Improves registration and normalization\n",
    "\n",
    "#### 2. Motion Correction\n",
    "\n",
    "#### 3. Slice-Timing Correction\n",
    "\n",
    "#### 4. Smoothing\n",
    "\n",
    "#### 5. Registration and Normalization"
   ]
  },
  {
   "cell_type": "markdown",
   "id": "c6c371e4-4395-417b-9460-222df062db24",
   "metadata": {},
   "source": [
    "# Statistics and Modeling fMRI data"
   ]
  },
  {
   "cell_type": "markdown",
   "id": "e80689e2-8f36-4272-bfda-bfac2573ec9c",
   "metadata": {},
   "source": [
    "## 1. The Time-Series "
   ]
  },
  {
   "cell_type": "markdown",
   "id": "3da44975-779e-41c7-8107-e8eedc66c79e",
   "metadata": {},
   "source": [
    "- The signal that is measured at each voxel across the entire run (time period or session) is called a **time-series**.\n",
    "- For each voxel, the signal value changes over time. This can be seen selecting each voxel and plotting its signal intensity over time."
   ]
  },
  {
   "cell_type": "markdown",
   "id": "83ed5a04-ccd1-4e19-8b6b-66bca8f5e1d0",
   "metadata": {},
   "source": [
    "## 2. The BOLD signal"
   ]
  },
  {
   "cell_type": "markdown",
   "id": "46a8748b-5bd4-42d8-b148-cdbfa135fecc",
   "metadata": {},
   "source": [
    "Q. Where does this signal come from for each voxel?\n",
    "- The signal is recorded using a technique called Magnetic Resonance Imaging\n",
    "- More deoxygenated blood leads to a decrease in the signal measured from a brain region. An increase in oxygenated blood, on the other hand, increases the signal and this increase in oxygenated blood was later shown to be correlated with increase neural firing. This change in signal is called BOLD (Blood oxygen level dependent) signal.\n",
    "- However, the BOLD signal is an indirect measure of brain activity, a few steps removed from the actual neural firing\n",
    "    - Whenever a stimulus is presented - such as a flash of light, or a sudden noise - that stimulus is transduced by the sensory organs into nerve impulses, which in turn stimulate neuronal firing in the brain. Neurons that fire require oxygen, and oxygen is delivered by the blood. That oxygenated blood in turn increases the signal from nearby hydrogen in the water in your body, which is what is measured in the scanner."
   ]
  },
  {
   "cell_type": "markdown",
   "id": "809300df-def9-4ce1-9e0e-81aef964afed",
   "metadata": {},
   "source": [
    "## 3. The Hemodynamic Response Function"
   ]
  },
  {
   "cell_type": "markdown",
   "id": "54663915-b239-4584-8841-fe09bdeebd86",
   "metadata": {},
   "source": [
    "- The BOLD signal appears to follow a consistent shape, peaking around six seconds and then falling back to baseline over the next several seconds. This shape can be modeled with a mathematical function called a Gamma Distribution.\n",
    "    - When a Gamma Distribution is created with parameters to best fit the BOLD response observed by the majority of empirical studies, we refer to it as the canonical Hermodynamic Response Function or **HRF**.\n",
    "    \n",
    "- When applied to fMRI data, the Gamma Distribution is called a **basis function** as it is the fundamental element (or basis) of the model we create and fit to the time series of the data.\n",
    "- Different HRFs can be found based on different types of stimuli\n",
    "1. The HRF of a Single Impulse Stimulus\n",
    "2. The HRF of a Single Boxcar Stimulus\n",
    "3. When HRFs overlap -- take the average sum"
   ]
  },
  {
   "cell_type": "code",
   "execution_count": 7,
   "id": "e718b757-4812-4904-8ca8-b1537ffb9400",
   "metadata": {},
   "outputs": [
    {
     "data": {
      "text/html": [
       "<img src=https://andysbrainbook.readthedocs.io/en/latest/_images/HRF_Demo.gif width=\"800\">"
      ],
      "text/plain": [
       "<IPython.core.display.HTML object>"
      ]
     },
     "metadata": {},
     "output_type": "display_data"
    }
   ],
   "source": [
    "from IPython.core.display import display, HTML\n",
    "display(HTML('<img src=https://andysbrainbook.readthedocs.io/en/latest/_images/HRF_Demo.gif width=\"800\">'))\n"
   ]
  },
  {
   "cell_type": "markdown",
   "id": "b59d8253-436c-448c-9f4a-162e658d4e9e",
   "metadata": {},
   "source": [
    "## 4. The General Linear Model"
   ]
  },
  {
   "cell_type": "markdown",
   "id": "8f5a743d-0a9c-4309-acd4-92ef21fbd06c",
   "metadata": {},
   "source": [
    "- The goal is to fit linear regressors to the time-series data that we obtain from each voxel. Also, fitting with a generalized regressor can help us correlate the voxel signals across multiple subjects"
   ]
  },
  {
   "cell_type": "code",
   "execution_count": null,
   "id": "cbc570ff-186c-47bc-85e7-ed9fa9de6ac7",
   "metadata": {},
   "outputs": [],
   "source": []
  }
 ],
 "metadata": {
  "kernelspec": {
   "display_name": "fmri",
   "language": "python",
   "name": "fmri"
  },
  "language_info": {
   "codemirror_mode": {
    "name": "ipython",
    "version": 3
   },
   "file_extension": ".py",
   "mimetype": "text/x-python",
   "name": "python",
   "nbconvert_exporter": "python",
   "pygments_lexer": "ipython3",
   "version": "3.8.10"
  }
 },
 "nbformat": 4,
 "nbformat_minor": 5
}
