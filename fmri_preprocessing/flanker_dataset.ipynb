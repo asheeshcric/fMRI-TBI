{
 "cells": [
  {
   "cell_type": "markdown",
   "id": "db93984a-602b-4985-a420-5f533637a829",
   "metadata": {},
   "source": [
    "## About Flanker Dataset"
   ]
  },
  {
   "cell_type": "markdown",
   "id": "0a9fb435-d964-4ec6-8b01-0e71dd96773b",
   "metadata": {},
   "source": [
    "### Anatomical (anat directory)\n",
    "\n",
    "\n",
    "#### -> Things to inspect in an anatomical image\n",
    "1. Lines that look like ripples in a pond - -Gibbs Ringing Artifacts\n",
    "    - May indicate an error in the reconstruction of the MR signal from the scanner\n",
    "    - May also be caused by the subject moving too much during the scan\n",
    "    - If present, can cause preprocessing steps like brain extraction and normalization to fail\n",
    "    \n",
    "2. Abnormality intensity differences within the grey or the white matter\n",
    "    - May indicate pathologies such as aneurysms or cavernomas, and should be reported to the radiologist right away"
   ]
  },
  {
   "cell_type": "markdown",
   "id": "7eee1bfb-4bed-48f9-99ec-3978ea8f0657",
   "metadata": {},
   "source": [
    "### Functional (func directory)\n",
    "\n",
    "- Contains functional data - in this case, two runs of functional data - and corresponding \"events.tsv\" files.\n",
    "- \"events.tsv\" files contain **onset times** or timestamps for when the subject underwent either a **Congruent** or **Incongruent** trial\n",
    "    - This format is known as BIDS (Brain Imaging Data Structure), which makes it easy to organize and find your data\n",
    "    \n",
    "#### Many of the quality checks for the functional images are the same as with the anatomical image\n",
    "1. Watch out for extremely bright or extremely dark spots in the grey or white matter, as well as for image distortions such as abnormal stretching and warping\n",
    "    - A common place to see a little bit of distortion is in the orbitofrontal part of the brain, just above the eyeballs\n",
    "    \n",
    "2. Make sure there isn't excessive motion.\n",
    "    - Functional images are often collected as a time-series\n",
    "    - So, note any sudden, jerky movements in any of the viewing panes\n",
    "    - During preprocessing, we quantify how much motion there was in order to decide whether to keep or to discard that subject's data"
   ]
  },
  {
   "cell_type": "markdown",
   "id": "fd0ee241-639f-4c37-818b-83f4dea1759d",
   "metadata": {},
   "source": [
    "## Preprocessing Steps\n",
    "\n",
    "### 1. Brain Extraction\n",
    "- Removing the skull allows us to focus only on the brain tissues\n",
    "- Improves registration and normalization"
   ]
  }
 ],
 "metadata": {
  "kernelspec": {
   "display_name": "fmri",
   "language": "python",
   "name": "fmri"
  },
  "language_info": {
   "codemirror_mode": {
    "name": "ipython",
    "version": 3
   },
   "file_extension": ".py",
   "mimetype": "text/x-python",
   "name": "python",
   "nbconvert_exporter": "python",
   "pygments_lexer": "ipython3",
   "version": "3.8.10"
  }
 },
 "nbformat": 4,
 "nbformat_minor": 5
}
